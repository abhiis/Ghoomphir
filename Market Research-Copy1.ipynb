{
 "cells": [
  {
   "cell_type": "markdown",
   "id": "10a7c08b-cbed-4fd4-925b-fb6d3f47ca41",
   "metadata": {},
   "source": [
    "## Ankti scraped data. Lets analyse"
   ]
  },
  {
   "cell_type": "code",
   "execution_count": 2,
   "id": "30979193-de1c-4d34-926a-ea1b8470141d",
   "metadata": {},
   "outputs": [],
   "source": [
    "import pandas as pd\n",
    "import os\n",
    "from glob import glob as g"
   ]
  },
  {
   "cell_type": "code",
   "execution_count": 4,
   "id": "339537ac-ec74-4350-a6fa-022de48c18a5",
   "metadata": {},
   "outputs": [
    {
     "data": {
      "text/plain": [
       "['Datasets/Jibhi hotel.csv',\n",
       " 'Datasets/shojha hotel.csv',\n",
       " 'Datasets/gushaini.csv']"
      ]
     },
     "execution_count": 4,
     "metadata": {},
     "output_type": "execute_result"
    }
   ],
   "source": [
    "## Locations\n",
    "datasets = g(os.path.join(\"Datasets\",\"*.*\"))\n",
    "datasets"
   ]
  },
  {
   "cell_type": "code",
   "execution_count": 8,
   "id": "292c8529-76aa-474b-a794-e04bfcd1758d",
   "metadata": {},
   "outputs": [
    {
     "data": {
      "text/plain": [
       "{'Jibhi': 'Datasets/Jibhi hotel.csv',\n",
       " 'Shoja': 'Datasets/shojha hotel.csv',\n",
       " 'Gushaini': 'Datasets/gushaini.csv'}"
      ]
     },
     "execution_count": 8,
     "metadata": {},
     "output_type": "execute_result"
    }
   ],
   "source": [
    "locations = ['Jibhi','Shoja','Gushaini']\n",
    "markets = dict(zip(locations, datasets))\n",
    "markets"
   ]
  },
  {
   "cell_type": "code",
   "execution_count": 9,
   "id": "f32c9b4b-ca4b-443a-989b-a9ec230dfc13",
   "metadata": {},
   "outputs": [],
   "source": [
    "market_data = {}\n",
    "for market in markets.keys():\n",
    "    market_data[market] = pd.read_csv(markets[market])\n",
    "    "
   ]
  },
  {
   "cell_type": "code",
   "execution_count": 32,
   "id": "cb9f8d8c-e816-49f9-90a3-13c19c7b710f",
   "metadata": {},
   "outputs": [
    {
     "data": {
      "text/plain": [
       "['Jibhi', 'Shoja']"
      ]
     },
     "execution_count": 32,
     "metadata": {},
     "output_type": "execute_result"
    }
   ],
   "source": [
    "locations_selected = locations[:2]\n",
    "locations_selected"
   ]
  },
  {
   "cell_type": "code",
   "execution_count": 34,
   "id": "e04fe7f8-03a5-4e93-808a-e4596d3ba1d9",
   "metadata": {},
   "outputs": [
    {
     "data": {
      "text/html": [
       "<div>\n",
       "<style scoped>\n",
       "    .dataframe tbody tr th:only-of-type {\n",
       "        vertical-align: middle;\n",
       "    }\n",
       "\n",
       "    .dataframe tbody tr th {\n",
       "        vertical-align: top;\n",
       "    }\n",
       "\n",
       "    .dataframe thead th {\n",
       "        text-align: right;\n",
       "    }\n",
       "</style>\n",
       "<table border=\"1\" class=\"dataframe\">\n",
       "  <thead>\n",
       "    <tr style=\"text-align: right;\">\n",
       "      <th></th>\n",
       "      <th>Hotel name</th>\n",
       "      <th>Prices</th>\n",
       "      <th>Rating counts</th>\n",
       "      <th>Total Rating</th>\n",
       "      <th>Address</th>\n",
       "      <th>Distance from center</th>\n",
       "      <th>Hotel-link</th>\n",
       "    </tr>\n",
       "  </thead>\n",
       "  <tbody>\n",
       "    <tr>\n",
       "      <th>0</th>\n",
       "      <td>The Woodpecker Inn Jibhi</td>\n",
       "      <td>549</td>\n",
       "      <td>9.9</td>\n",
       "      <td>16.0</td>\n",
       "      <td>Jibhi</td>\n",
       "      <td>400 m</td>\n",
       "      <td>https://www.booking.com/hotel/in/the-woodpecke...</td>\n",
       "    </tr>\n",
       "    <tr>\n",
       "      <th>1</th>\n",
       "      <td>Madpackers Jibhi</td>\n",
       "      <td>432</td>\n",
       "      <td>9.3</td>\n",
       "      <td>151.0</td>\n",
       "      <td>Jibhi</td>\n",
       "      <td>350 m</td>\n",
       "      <td>https://www.booking.com/hotel/in/madpackers-ji...</td>\n",
       "    </tr>\n",
       "    <tr>\n",
       "      <th>2</th>\n",
       "      <td>The Hosteller Shoja, Jibhi</td>\n",
       "      <td>439</td>\n",
       "      <td>8.6</td>\n",
       "      <td>367.0</td>\n",
       "      <td>Jibhi</td>\n",
       "      <td>3.5 km</td>\n",
       "      <td>https://www.booking.com/hotel/in/the-hosteller...</td>\n",
       "    </tr>\n",
       "    <tr>\n",
       "      <th>3</th>\n",
       "      <td>Khwabeeda Stays</td>\n",
       "      <td>2500</td>\n",
       "      <td>9.1</td>\n",
       "      <td>11.0</td>\n",
       "      <td>Jibhi</td>\n",
       "      <td>400 m</td>\n",
       "      <td>https://www.booking.com/hotel/in/khwabeeda-sta...</td>\n",
       "    </tr>\n",
       "    <tr>\n",
       "      <th>4</th>\n",
       "      <td>Freebird Nest 2 Stays &amp; Cafe</td>\n",
       "      <td>2552</td>\n",
       "      <td>10.0</td>\n",
       "      <td>3.0</td>\n",
       "      <td>Jibhi</td>\n",
       "      <td>1 km</td>\n",
       "      <td>https://www.booking.com/hotel/in/freebird-nest...</td>\n",
       "    </tr>\n",
       "    <tr>\n",
       "      <th>...</th>\n",
       "      <td>...</td>\n",
       "      <td>...</td>\n",
       "      <td>...</td>\n",
       "      <td>...</td>\n",
       "      <td>...</td>\n",
       "      <td>...</td>\n",
       "      <td>...</td>\n",
       "    </tr>\n",
       "    <tr>\n",
       "      <th>1</th>\n",
       "      <td>Sunshine Cafe &amp; Cottage Riverside</td>\n",
       "      <td>2851</td>\n",
       "      <td>7.3</td>\n",
       "      <td>6.0</td>\n",
       "      <td>Shoja</td>\n",
       "      <td>1.3 km</td>\n",
       "      <td>https://www.booking.com/hotel/in/sunshine-cafe...</td>\n",
       "    </tr>\n",
       "    <tr>\n",
       "      <th>2</th>\n",
       "      <td>DreamLand Home stay (JALORI PASS)</td>\n",
       "      <td>5856</td>\n",
       "      <td>0.0</td>\n",
       "      <td>0.0</td>\n",
       "      <td>Shoja</td>\n",
       "      <td>1.1 km</td>\n",
       "      <td>https://www.booking.com/hotel/in/dreamland-hom...</td>\n",
       "    </tr>\n",
       "    <tr>\n",
       "      <th>3</th>\n",
       "      <td>God Wood Homestay</td>\n",
       "      <td>1980</td>\n",
       "      <td>0.0</td>\n",
       "      <td>0.0</td>\n",
       "      <td>Shoja</td>\n",
       "      <td>1.2 km</td>\n",
       "      <td>https://www.booking.com/hotel/in/god-wood-home...</td>\n",
       "    </tr>\n",
       "    <tr>\n",
       "      <th>4</th>\n",
       "      <td>Sojhaholidayinn</td>\n",
       "      <td>1300</td>\n",
       "      <td>0.0</td>\n",
       "      <td>0.0</td>\n",
       "      <td>Shoja</td>\n",
       "      <td>400 m</td>\n",
       "      <td>https://www.booking.com/hotel/in/sojhaholidayi...</td>\n",
       "    </tr>\n",
       "    <tr>\n",
       "      <th>5</th>\n",
       "      <td>Kiran Home Stay</td>\n",
       "      <td>2250</td>\n",
       "      <td>0.0</td>\n",
       "      <td>0.0</td>\n",
       "      <td>Shoja</td>\n",
       "      <td>450 m</td>\n",
       "      <td>https://www.booking.com/hotel/in/kiran-home-st...</td>\n",
       "    </tr>\n",
       "  </tbody>\n",
       "</table>\n",
       "<p>72 rows × 7 columns</p>\n",
       "</div>"
      ],
      "text/plain": [
       "                           Hotel name  Prices  Rating counts  Total Rating  \\\n",
       "0            The Woodpecker Inn Jibhi     549            9.9          16.0   \n",
       "1                    Madpackers Jibhi     432            9.3         151.0   \n",
       "2          The Hosteller Shoja, Jibhi     439            8.6         367.0   \n",
       "3                     Khwabeeda Stays    2500            9.1          11.0   \n",
       "4        Freebird Nest 2 Stays & Cafe    2552           10.0           3.0   \n",
       "..                                ...     ...            ...           ...   \n",
       "1   Sunshine Cafe & Cottage Riverside    2851            7.3           6.0   \n",
       "2   DreamLand Home stay (JALORI PASS)    5856            0.0           0.0   \n",
       "3                   God Wood Homestay    1980            0.0           0.0   \n",
       "4                     Sojhaholidayinn    1300            0.0           0.0   \n",
       "5                     Kiran Home Stay    2250            0.0           0.0   \n",
       "\n",
       "   Address Distance from center  \\\n",
       "0    Jibhi               400 m    \n",
       "1    Jibhi               350 m    \n",
       "2    Jibhi              3.5 km    \n",
       "3    Jibhi               400 m    \n",
       "4    Jibhi                1 km    \n",
       "..     ...                  ...   \n",
       "1    Shoja              1.3 km    \n",
       "2    Shoja              1.1 km    \n",
       "3    Shoja              1.2 km    \n",
       "4    Shoja               400 m    \n",
       "5    Shoja               450 m    \n",
       "\n",
       "                                           Hotel-link  \n",
       "0   https://www.booking.com/hotel/in/the-woodpecke...  \n",
       "1   https://www.booking.com/hotel/in/madpackers-ji...  \n",
       "2   https://www.booking.com/hotel/in/the-hosteller...  \n",
       "3   https://www.booking.com/hotel/in/khwabeeda-sta...  \n",
       "4   https://www.booking.com/hotel/in/freebird-nest...  \n",
       "..                                                ...  \n",
       "1   https://www.booking.com/hotel/in/sunshine-cafe...  \n",
       "2   https://www.booking.com/hotel/in/dreamland-hom...  \n",
       "3   https://www.booking.com/hotel/in/god-wood-home...  \n",
       "4   https://www.booking.com/hotel/in/sojhaholidayi...  \n",
       "5   https://www.booking.com/hotel/in/kiran-home-st...  \n",
       "\n",
       "[72 rows x 7 columns]"
      ]
     },
     "execution_count": 34,
     "metadata": {},
     "output_type": "execute_result"
    }
   ],
   "source": [
    "collector = []\n",
    "for location in locations_selected:\n",
    "    collector.append(market_data[location])\n",
    "dataset = pd.concat(collector)\n",
    "dataset"
   ]
  },
  {
   "cell_type": "code",
   "execution_count": 35,
   "id": "e25ff317-c261-44ad-a845-36d5d954dfeb",
   "metadata": {},
   "outputs": [
    {
     "data": {
      "text/html": [
       "<div>\n",
       "<style scoped>\n",
       "    .dataframe tbody tr th:only-of-type {\n",
       "        vertical-align: middle;\n",
       "    }\n",
       "\n",
       "    .dataframe tbody tr th {\n",
       "        vertical-align: top;\n",
       "    }\n",
       "\n",
       "    .dataframe thead th {\n",
       "        text-align: right;\n",
       "    }\n",
       "</style>\n",
       "<table border=\"1\" class=\"dataframe\">\n",
       "  <thead>\n",
       "    <tr style=\"text-align: right;\">\n",
       "      <th></th>\n",
       "      <th>Hotel name</th>\n",
       "      <th>Prices</th>\n",
       "      <th>Rating counts</th>\n",
       "      <th>Total Rating</th>\n",
       "      <th>Address</th>\n",
       "      <th>Distance from center</th>\n",
       "      <th>Hotel-link</th>\n",
       "    </tr>\n",
       "  </thead>\n",
       "  <tbody>\n",
       "    <tr>\n",
       "      <th>26</th>\n",
       "      <td>2 little monks Cafe and stays</td>\n",
       "      <td>2061</td>\n",
       "      <td>10.0</td>\n",
       "      <td>1.0</td>\n",
       "      <td>Jibhi</td>\n",
       "      <td>0.5 km</td>\n",
       "      <td>https://www.booking.com/hotel/in/2-little-monk...</td>\n",
       "    </tr>\n",
       "    <tr>\n",
       "      <th>20</th>\n",
       "      <td>Above the river behind the forrest</td>\n",
       "      <td>1126</td>\n",
       "      <td>0.0</td>\n",
       "      <td>0.0</td>\n",
       "      <td>Jibhi</td>\n",
       "      <td>1.1 km</td>\n",
       "      <td>https://www.booking.com/hotel/in/above-the-riv...</td>\n",
       "    </tr>\n",
       "    <tr>\n",
       "      <th>62</th>\n",
       "      <td>BASERA COTTAGE,MAIN JIBHI</td>\n",
       "      <td>2699</td>\n",
       "      <td>1.0</td>\n",
       "      <td>1.0</td>\n",
       "      <td>Jibhi</td>\n",
       "      <td>0.9 km</td>\n",
       "      <td>https://www.booking.com/hotel/in/basera-cottag...</td>\n",
       "    </tr>\n",
       "    <tr>\n",
       "      <th>40</th>\n",
       "      <td>Chirag Homestay</td>\n",
       "      <td>1600</td>\n",
       "      <td>0.0</td>\n",
       "      <td>0.0</td>\n",
       "      <td>Jibhi</td>\n",
       "      <td>1.9 km</td>\n",
       "      <td>https://www.booking.com/hotel/in/chirag-homest...</td>\n",
       "    </tr>\n",
       "    <tr>\n",
       "      <th>42</th>\n",
       "      <td>Cloudwalk Treehouse</td>\n",
       "      <td>7290</td>\n",
       "      <td>9.6</td>\n",
       "      <td>7.0</td>\n",
       "      <td>Jibhi</td>\n",
       "      <td>1 km</td>\n",
       "      <td>https://www.booking.com/hotel/in/cloudwalk-tre...</td>\n",
       "    </tr>\n",
       "    <tr>\n",
       "      <th>...</th>\n",
       "      <td>...</td>\n",
       "      <td>...</td>\n",
       "      <td>...</td>\n",
       "      <td>...</td>\n",
       "      <td>...</td>\n",
       "      <td>...</td>\n",
       "      <td>...</td>\n",
       "    </tr>\n",
       "    <tr>\n",
       "      <th>6</th>\n",
       "      <td>Whoopers Boutique Resort Jibhi</td>\n",
       "      <td>1999</td>\n",
       "      <td>8.9</td>\n",
       "      <td>164.0</td>\n",
       "      <td>Jibhi</td>\n",
       "      <td>1.1 km</td>\n",
       "      <td>https://www.booking.com/hotel/in/whoopers-jibh...</td>\n",
       "    </tr>\n",
       "    <tr>\n",
       "      <th>22</th>\n",
       "      <td>WildWoodHome Jibhi</td>\n",
       "      <td>2200</td>\n",
       "      <td>8.7</td>\n",
       "      <td>13.0</td>\n",
       "      <td>Jibhi</td>\n",
       "      <td>350 m</td>\n",
       "      <td>https://www.booking.com/hotel/in/wildwood-home...</td>\n",
       "    </tr>\n",
       "    <tr>\n",
       "      <th>8</th>\n",
       "      <td>YOLO Hostel &amp; Stay Jibhi</td>\n",
       "      <td>499</td>\n",
       "      <td>8.7</td>\n",
       "      <td>18.0</td>\n",
       "      <td>Jibhi</td>\n",
       "      <td>2.8 km</td>\n",
       "      <td>https://www.booking.com/hotel/in/yolo-hostel-j...</td>\n",
       "    </tr>\n",
       "    <tr>\n",
       "      <th>12</th>\n",
       "      <td>anavrin</td>\n",
       "      <td>1748</td>\n",
       "      <td>8.1</td>\n",
       "      <td>7.0</td>\n",
       "      <td>Jibhi</td>\n",
       "      <td>450 m</td>\n",
       "      <td>https://www.booking.com/hotel/in/anavrin-jibhi...</td>\n",
       "    </tr>\n",
       "    <tr>\n",
       "      <th>32</th>\n",
       "      <td>winterfell treehouse jibhi</td>\n",
       "      <td>3420</td>\n",
       "      <td>0.0</td>\n",
       "      <td>0.0</td>\n",
       "      <td>Jibhi</td>\n",
       "      <td>1.9 km</td>\n",
       "      <td>https://www.booking.com/hotel/in/the-casa-alpi...</td>\n",
       "    </tr>\n",
       "  </tbody>\n",
       "</table>\n",
       "<p>72 rows × 7 columns</p>\n",
       "</div>"
      ],
      "text/plain": [
       "                            Hotel name  Prices  Rating counts  Total Rating  \\\n",
       "26       2 little monks Cafe and stays    2061           10.0           1.0   \n",
       "20  Above the river behind the forrest    1126            0.0           0.0   \n",
       "62           BASERA COTTAGE,MAIN JIBHI    2699            1.0           1.0   \n",
       "40                     Chirag Homestay    1600            0.0           0.0   \n",
       "42                 Cloudwalk Treehouse    7290            9.6           7.0   \n",
       "..                                 ...     ...            ...           ...   \n",
       "6       Whoopers Boutique Resort Jibhi    1999            8.9         164.0   \n",
       "22                  WildWoodHome Jibhi    2200            8.7          13.0   \n",
       "8             YOLO Hostel & Stay Jibhi     499            8.7          18.0   \n",
       "12                             anavrin    1748            8.1           7.0   \n",
       "32          winterfell treehouse jibhi    3420            0.0           0.0   \n",
       "\n",
       "   Address Distance from center  \\\n",
       "26   Jibhi              0.5 km    \n",
       "20   Jibhi              1.1 km    \n",
       "62   Jibhi              0.9 km    \n",
       "40   Jibhi              1.9 km    \n",
       "42   Jibhi                1 km    \n",
       "..     ...                  ...   \n",
       "6    Jibhi              1.1 km    \n",
       "22   Jibhi               350 m    \n",
       "8    Jibhi              2.8 km    \n",
       "12   Jibhi               450 m    \n",
       "32   Jibhi              1.9 km    \n",
       "\n",
       "                                           Hotel-link  \n",
       "26  https://www.booking.com/hotel/in/2-little-monk...  \n",
       "20  https://www.booking.com/hotel/in/above-the-riv...  \n",
       "62  https://www.booking.com/hotel/in/basera-cottag...  \n",
       "40  https://www.booking.com/hotel/in/chirag-homest...  \n",
       "42  https://www.booking.com/hotel/in/cloudwalk-tre...  \n",
       "..                                                ...  \n",
       "6   https://www.booking.com/hotel/in/whoopers-jibh...  \n",
       "22  https://www.booking.com/hotel/in/wildwood-home...  \n",
       "8   https://www.booking.com/hotel/in/yolo-hostel-j...  \n",
       "12  https://www.booking.com/hotel/in/anavrin-jibhi...  \n",
       "32  https://www.booking.com/hotel/in/the-casa-alpi...  \n",
       "\n",
       "[72 rows x 7 columns]"
      ]
     },
     "execution_count": 35,
     "metadata": {},
     "output_type": "execute_result"
    }
   ],
   "source": [
    "competition = dataset.sort_values(by='Hotel name').drop_duplicates()\n",
    "competition"
   ]
  },
  {
   "cell_type": "code",
   "execution_count": 36,
   "id": "c55913d0-4d15-420b-b0f9-3d82ee1eaf31",
   "metadata": {},
   "outputs": [
    {
     "data": {
      "text/html": [
       "<div>\n",
       "<style scoped>\n",
       "    .dataframe tbody tr th:only-of-type {\n",
       "        vertical-align: middle;\n",
       "    }\n",
       "\n",
       "    .dataframe tbody tr th {\n",
       "        vertical-align: top;\n",
       "    }\n",
       "\n",
       "    .dataframe thead th {\n",
       "        text-align: right;\n",
       "    }\n",
       "</style>\n",
       "<table border=\"1\" class=\"dataframe\">\n",
       "  <thead>\n",
       "    <tr style=\"text-align: right;\">\n",
       "      <th></th>\n",
       "      <th>Hotel name</th>\n",
       "      <th>Prices</th>\n",
       "      <th>Rating counts</th>\n",
       "      <th>Total Rating</th>\n",
       "      <th>Address</th>\n",
       "      <th>Distance from center</th>\n",
       "      <th>Hotel-link</th>\n",
       "    </tr>\n",
       "  </thead>\n",
       "  <tbody>\n",
       "    <tr>\n",
       "      <th>63</th>\n",
       "      <td>Moksha luxurious,Jibhi</td>\n",
       "      <td>10800</td>\n",
       "      <td>0.0</td>\n",
       "      <td>0.0</td>\n",
       "      <td>Jibhi</td>\n",
       "      <td>1.8 km</td>\n",
       "      <td>https://www.booking.com/hotel/in/moksha-luxuri...</td>\n",
       "    </tr>\n",
       "    <tr>\n",
       "      <th>56</th>\n",
       "      <td>Natur3Rich</td>\n",
       "      <td>8500</td>\n",
       "      <td>0.0</td>\n",
       "      <td>0.0</td>\n",
       "      <td>Jibhi</td>\n",
       "      <td>1.5 km</td>\n",
       "      <td>https://www.booking.com/hotel/in/natur3rich.ht...</td>\n",
       "    </tr>\n",
       "    <tr>\n",
       "      <th>7</th>\n",
       "      <td>Stargazing Cottages Jibhi</td>\n",
       "      <td>8400</td>\n",
       "      <td>8.8</td>\n",
       "      <td>19.0</td>\n",
       "      <td>Jibhi</td>\n",
       "      <td>0.9 km</td>\n",
       "      <td>https://www.booking.com/hotel/in/stargazing-co...</td>\n",
       "    </tr>\n",
       "    <tr>\n",
       "      <th>55</th>\n",
       "      <td>Dreamscape Treehouse &amp; Cottages</td>\n",
       "      <td>7650</td>\n",
       "      <td>8.0</td>\n",
       "      <td>1.0</td>\n",
       "      <td>Jibhi</td>\n",
       "      <td>0.9 km</td>\n",
       "      <td>https://www.booking.com/hotel/in/dreamscape-tr...</td>\n",
       "    </tr>\n",
       "    <tr>\n",
       "      <th>42</th>\n",
       "      <td>Cloudwalk Treehouse</td>\n",
       "      <td>7290</td>\n",
       "      <td>9.6</td>\n",
       "      <td>7.0</td>\n",
       "      <td>Jibhi</td>\n",
       "      <td>1 km</td>\n",
       "      <td>https://www.booking.com/hotel/in/cloudwalk-tre...</td>\n",
       "    </tr>\n",
       "    <tr>\n",
       "      <th>...</th>\n",
       "      <td>...</td>\n",
       "      <td>...</td>\n",
       "      <td>...</td>\n",
       "      <td>...</td>\n",
       "      <td>...</td>\n",
       "      <td>...</td>\n",
       "      <td>...</td>\n",
       "    </tr>\n",
       "    <tr>\n",
       "      <th>5</th>\n",
       "      <td>Reverberate Cafe &amp; Cottages - Negi's Place</td>\n",
       "      <td>884</td>\n",
       "      <td>9.5</td>\n",
       "      <td>25.0</td>\n",
       "      <td>Jibhi</td>\n",
       "      <td>400 m</td>\n",
       "      <td>https://www.booking.com/hotel/in/reverberate-c...</td>\n",
       "    </tr>\n",
       "    <tr>\n",
       "      <th>0</th>\n",
       "      <td>The Woodpecker Inn Jibhi</td>\n",
       "      <td>549</td>\n",
       "      <td>9.9</td>\n",
       "      <td>16.0</td>\n",
       "      <td>Jibhi</td>\n",
       "      <td>400 m</td>\n",
       "      <td>https://www.booking.com/hotel/in/the-woodpecke...</td>\n",
       "    </tr>\n",
       "    <tr>\n",
       "      <th>8</th>\n",
       "      <td>YOLO Hostel &amp; Stay Jibhi</td>\n",
       "      <td>499</td>\n",
       "      <td>8.7</td>\n",
       "      <td>18.0</td>\n",
       "      <td>Jibhi</td>\n",
       "      <td>2.8 km</td>\n",
       "      <td>https://www.booking.com/hotel/in/yolo-hostel-j...</td>\n",
       "    </tr>\n",
       "    <tr>\n",
       "      <th>2</th>\n",
       "      <td>The Hosteller Shoja, Jibhi</td>\n",
       "      <td>439</td>\n",
       "      <td>8.6</td>\n",
       "      <td>367.0</td>\n",
       "      <td>Jibhi</td>\n",
       "      <td>3.5 km</td>\n",
       "      <td>https://www.booking.com/hotel/in/the-hosteller...</td>\n",
       "    </tr>\n",
       "    <tr>\n",
       "      <th>1</th>\n",
       "      <td>Madpackers Jibhi</td>\n",
       "      <td>432</td>\n",
       "      <td>9.3</td>\n",
       "      <td>151.0</td>\n",
       "      <td>Jibhi</td>\n",
       "      <td>350 m</td>\n",
       "      <td>https://www.booking.com/hotel/in/madpackers-ji...</td>\n",
       "    </tr>\n",
       "  </tbody>\n",
       "</table>\n",
       "<p>72 rows × 7 columns</p>\n",
       "</div>"
      ],
      "text/plain": [
       "                                    Hotel name  Prices  Rating counts  \\\n",
       "63                      Moksha luxurious,Jibhi   10800            0.0   \n",
       "56                                  Natur3Rich    8500            0.0   \n",
       "7                    Stargazing Cottages Jibhi    8400            8.8   \n",
       "55             Dreamscape Treehouse & Cottages    7650            8.0   \n",
       "42                         Cloudwalk Treehouse    7290            9.6   \n",
       "..                                         ...     ...            ...   \n",
       "5   Reverberate Cafe & Cottages - Negi's Place     884            9.5   \n",
       "0                     The Woodpecker Inn Jibhi     549            9.9   \n",
       "8                     YOLO Hostel & Stay Jibhi     499            8.7   \n",
       "2                   The Hosteller Shoja, Jibhi     439            8.6   \n",
       "1                             Madpackers Jibhi     432            9.3   \n",
       "\n",
       "    Total Rating Address Distance from center  \\\n",
       "63           0.0   Jibhi              1.8 km    \n",
       "56           0.0   Jibhi              1.5 km    \n",
       "7           19.0   Jibhi              0.9 km    \n",
       "55           1.0   Jibhi              0.9 km    \n",
       "42           7.0   Jibhi                1 km    \n",
       "..           ...     ...                  ...   \n",
       "5           25.0   Jibhi               400 m    \n",
       "0           16.0   Jibhi               400 m    \n",
       "8           18.0   Jibhi              2.8 km    \n",
       "2          367.0   Jibhi              3.5 km    \n",
       "1          151.0   Jibhi               350 m    \n",
       "\n",
       "                                           Hotel-link  \n",
       "63  https://www.booking.com/hotel/in/moksha-luxuri...  \n",
       "56  https://www.booking.com/hotel/in/natur3rich.ht...  \n",
       "7   https://www.booking.com/hotel/in/stargazing-co...  \n",
       "55  https://www.booking.com/hotel/in/dreamscape-tr...  \n",
       "42  https://www.booking.com/hotel/in/cloudwalk-tre...  \n",
       "..                                                ...  \n",
       "5   https://www.booking.com/hotel/in/reverberate-c...  \n",
       "0   https://www.booking.com/hotel/in/the-woodpecke...  \n",
       "8   https://www.booking.com/hotel/in/yolo-hostel-j...  \n",
       "2   https://www.booking.com/hotel/in/the-hosteller...  \n",
       "1   https://www.booking.com/hotel/in/madpackers-ji...  \n",
       "\n",
       "[72 rows x 7 columns]"
      ]
     },
     "execution_count": 36,
     "metadata": {},
     "output_type": "execute_result"
    }
   ],
   "source": [
    "competition = competition.sort_values(by=\"Prices\", ascending=False)\n",
    "competition"
   ]
  },
  {
   "cell_type": "code",
   "execution_count": 37,
   "id": "f178b6cb-e095-48e6-adab-b959846cc4aa",
   "metadata": {},
   "outputs": [
    {
     "data": {
      "text/plain": [
       "array(['Jibhi', 'Shoja'], dtype=object)"
      ]
     },
     "execution_count": 37,
     "metadata": {},
     "output_type": "execute_result"
    }
   ],
   "source": [
    "competition.Address.unique()"
   ]
  },
  {
   "cell_type": "code",
   "execution_count": 40,
   "id": "1f98db4e-21ad-479f-b8c7-6c8a099077c0",
   "metadata": {},
   "outputs": [
    {
     "data": {
      "text/plain": [
       "Index(['Hotel name', 'Prices', 'Rating counts', 'Total Rating', 'Address',\n",
       "       'Distance from center', 'Hotel-link'],\n",
       "      dtype='object')"
      ]
     },
     "execution_count": 40,
     "metadata": {},
     "output_type": "execute_result"
    }
   ],
   "source": [
    "competition.columns"
   ]
  },
  {
   "cell_type": "code",
   "execution_count": 41,
   "id": "ee611e0e-e32c-4b97-bf31-bd34ecb0f3b1",
   "metadata": {},
   "outputs": [
    {
     "name": "stdout",
     "output_type": "stream",
     "text": [
      "Collecting mysql-connector-python\n",
      "  Downloading mysql_connector_python-8.3.0-cp311-cp311-manylinux_2_17_x86_64.whl.metadata (1.9 kB)\n",
      "Downloading mysql_connector_python-8.3.0-cp311-cp311-manylinux_2_17_x86_64.whl (21.5 MB)\n",
      "\u001b[2K   \u001b[90m━━━━━━━━━━━━━━━━━━━━━━━━━━━━━━━━━━━━━━━━\u001b[0m \u001b[32m21.5/21.5 MB\u001b[0m \u001b[31m16.6 MB/s\u001b[0m eta \u001b[36m0:00:00\u001b[0m00:01\u001b[0m00:01\u001b[0mm\n",
      "\u001b[?25hInstalling collected packages: mysql-connector-python\n",
      "Successfully installed mysql-connector-python-8.3.0\n"
     ]
    }
   ],
   "source": [
    "!pip install mysql-connector-python\n"
   ]
  },
  {
   "cell_type": "code",
   "execution_count": 43,
   "id": "22c9e931-4457-41f9-81ac-c07722030a5d",
   "metadata": {},
   "outputs": [
    {
     "name": "stdout",
     "output_type": "stream",
     "text": [
      "Records inserted successfully.\n"
     ]
    }
   ],
   "source": [
    "import mysql.connector\n",
    "import pandas as pd\n",
    "\n",
    "# Assuming you have a DataFrame named 'df' with the data\n",
    "# If you need to load the DataFrame from a CSV or another source, you would use pd.read_csv or a similar function\n",
    "\n",
    "# Establish a connection to the database\n",
    "db_connection = mysql.connector.connect(\n",
    "    host=\"95.216.139.28\",\n",
    "    user=\"ghoomphir\",\n",
    "    password=\"tcECmp2LNxbFKPwz\",\n",
    "    database=\"ghoomphir\"\n",
    ")\n",
    "\n",
    "# Create a cursor object using the connection\n",
    "cursor = db_connection.cursor()\n",
    "\n",
    "# Define the SQL statement to create the table\n",
    "# Adjust the data types according to your data\n",
    "create_table_query = \"\"\"\n",
    "CREATE TABLE IF NOT EXISTS competition (\n",
    "    Hotel_name VARCHAR(255),\n",
    "    Prices DECIMAL(10, 2),\n",
    "    Rating_counts INT,\n",
    "    Total_Rating DECIMAL(3, 1),\n",
    "    Address TEXT,\n",
    "    Distance_from_center DECIMAL(10, 2),\n",
    "    Hotel_link TEXT\n",
    ");\n",
    "\"\"\"\n",
    "\n",
    "# Execute the SQL command\n",
    "cursor.execute(create_table_query)\n",
    "\n",
    "# Insert data from the DataFrame into the MySQL table\n",
    "insert_query = \"\"\"\n",
    "INSERT INTO hotels (Hotel_name, Prices, Rating_counts, Total_Rating, Address, Distance_from_center, Hotel_link)\n",
    "VALUES (%s, %s, %s, %s, %s, %s, %s)\n",
    "\"\"\"\n",
    "\n",
    "# Loop through the DataFrame and insert each record\n",
    "for i, row in competition.iterrows():\n",
    "    cursor.execute(insert_query, tuple(row))\n",
    "\n",
    "# Commit the changes to the database\n",
    "db_connection.commit()\n",
    "\n",
    "# Print success message\n",
    "print(\"Records inserted successfully.\")\n",
    "\n",
    "# Close the cursor and connection\n",
    "cursor.close()\n",
    "db_connection.close()\n"
   ]
  },
  {
   "cell_type": "code",
   "execution_count": 45,
   "id": "eb9d153b-5dfd-4034-ba0b-bd673e759fa3",
   "metadata": {},
   "outputs": [],
   "source": [
    "competition.to_csv(\"Competition.csv\")"
   ]
  },
  {
   "cell_type": "code",
   "execution_count": 57,
   "id": "a8f106d8-8903-4924-8d81-9a4670ea5e90",
   "metadata": {
    "scrolled": true
   },
   "outputs": [
    {
     "name": "stdout",
     "output_type": "stream",
     "text": [
      "Getting Text Dump from -- https://www.booking.com/hotel/in/moksha-luxurious-jibhi.html?label=bc29a95ef28e11ee8e8d715acd892bb1&sid=f7dfbf4df493fe46ecc5e846650e34cc&aid=2167732&ucfs=1&arphpl=1&checkin=2024-04-04&checkout=2024-04-05&dest_id=900056686&dest_type=city&group_adults=1&req_adults=1&no_rooms=1&group_children=0&req_children=0&hpos=14&hapos=64&sr_order=popularity&srpvid=055b6563793c010b&srepoch=1712240815&all_sr_blocks=1160443701_388743388_1_1_0&highlighted_blocks=1160443701_388743388_1_1_0&matching_block_id=1160443701_388743388_1_1_0&sr_pri_blocks=1160443701_388743388_1_1_0__1080000&dcs_click=1&from=searchresults#hotelTmpl\n",
      "Getting Text Dump from -- https://www.booking.com/hotel/in/natur3rich.html?label=bc29a95ef28e11ee8e8d715acd892bb1&sid=f7dfbf4df493fe46ecc5e846650e34cc&aid=2167732&ucfs=1&arphpl=1&checkin=2024-04-04&checkout=2024-04-05&dest_id=900056686&dest_type=city&group_adults=1&req_adults=1&no_rooms=1&group_children=0&req_children=0&hpos=7&hapos=57&sr_order=popularity&srpvid=055b6563793c010b&srepoch=1712240815&all_sr_blocks=1133772201_386030546_0_1_0&highlighted_blocks=1133772201_386030546_0_1_0&matching_block_id=1133772201_386030546_0_1_0&sr_pri_blocks=1133772201_386030546_0_1_0__850000&dcs_click=1&from=searchresults#hotelTmpl\n",
      "Getting Text Dump from -- https://www.booking.com/hotel/in/stargazing-cottages.html?label=bc29a95ef28e11ee8e8d715acd892bb1&sid=f7dfbf4df493fe46ecc5e846650e34cc&aid=2167732&ucfs=1&arphpl=1&checkin=2024-04-04&checkout=2024-04-05&dest_id=900056686&dest_type=city&group_adults=1&req_adults=1&no_rooms=1&group_children=0&req_children=0&hpos=8&hapos=8&sr_order=popularity&srpvid=055b6563793c010b&srepoch=1712240831&all_sr_blocks=713448201_298326888_0_1_0&highlighted_blocks=713448201_298326888_0_1_0&matching_block_id=713448201_298326888_0_1_0&sr_pri_blocks=713448201_298326888_0_1_0__840000&dcs_click=1&from=searchresults#hotelTmpl\n",
      "Getting Text Dump from -- https://www.booking.com/hotel/in/dreamscape-treehouse-amp-cottages.html?label=bc29a95ef28e11ee8e8d715acd892bb1&sid=f7dfbf4df493fe46ecc5e846650e34cc&aid=2167732&ucfs=1&arphpl=1&checkin=2024-04-04&checkout=2024-04-05&dest_id=900056686&dest_type=city&group_adults=1&req_adults=1&no_rooms=1&group_children=0&req_children=0&hpos=6&hapos=56&sr_order=popularity&srpvid=055b6563793c010b&srepoch=1712240815&all_sr_blocks=1119778901_384792142_1_2_0&highlighted_blocks=1119778901_384792142_1_2_0&matching_block_id=1119778901_384792142_1_2_0&sr_pri_blocks=1119778901_384792142_1_2_0__765000&dcs_click=1&from=searchresults#hotelTmpl\n",
      "Getting Text Dump from -- https://www.booking.com/hotel/in/cloudwalk-treehouse.html?label=bc29a95ef28e11ee8e8d715acd892bb1&sid=f7dfbf4df493fe46ecc5e846650e34cc&aid=2167732&ucfs=1&arphpl=1&checkin=2024-04-04&checkout=2024-04-05&dest_id=900056686&dest_type=city&group_adults=1&req_adults=1&no_rooms=1&group_children=0&req_children=0&hpos=18&hapos=43&sr_order=popularity&srpvid=055b6563793c010b&srepoch=1712240812&all_sr_blocks=984621701_370871919_1_1_0&highlighted_blocks=984621701_370871919_1_1_0&matching_block_id=984621701_370871919_1_1_0&sr_pri_blocks=984621701_370871919_1_1_0__729000&dcs_click=1&from=searchresults#hotelTmpl\n",
      "Getting Text Dump from -- https://www.booking.com/hotel/in/himalayan-chalets-jibhi.html?label=bc29a95ef28e11ee8e8d715acd892bb1&sid=f7dfbf4df493fe46ecc5e846650e34cc&aid=2167732&ucfs=1&arphpl=1&checkin=2024-04-04&checkout=2024-04-05&dest_id=900056686&dest_type=city&group_adults=1&req_adults=1&no_rooms=1&group_children=0&req_children=0&hpos=12&hapos=37&sr_order=popularity&srpvid=055b6563793c010b&srepoch=1712240812&all_sr_blocks=1138780101_386590880_2_1_0&highlighted_blocks=1138780101_386590880_2_1_0&matching_block_id=1138780101_386590880_2_1_0&sr_pri_blocks=1138780101_386590880_2_1_0__700000&dcs_click=1&from=searchresults#hotelTmpl\n",
      "Getting Text Dump from -- https://www.booking.com/hotel/in/enchanted-tales-tandi-tandi.html?label=bc29a95ef28e11ee8e8d715acd892bb1&sid=f7dfbf4df493fe46ecc5e846650e34cc&aid=2167732&ucfs=1&arphpl=1&checkin=2024-04-04&checkout=2024-04-05&dest_id=900056686&dest_type=city&group_adults=1&req_adults=1&no_rooms=1&group_children=0&req_children=0&hpos=23&hapos=48&sr_order=popularity&srpvid=055b6563793c010b&srepoch=1712240812&all_sr_blocks=1174732702_390198569_2_1_0&highlighted_blocks=1174732702_390198569_2_1_0&matching_block_id=1174732702_390198569_2_1_0&sr_pri_blocks=1174732702_390198569_2_1_0__700000&dcs_click=1&from=searchresults#hotelTmpl\n",
      "Getting Text Dump from -- https://www.booking.com/hotel/in/the-chapters-cottage-tandi-jibhi.html?label=bc29a95ef28e11ee8e8d715acd892bb1&sid=f7dfbf4df493fe46ecc5e846650e34cc&aid=2167732&ucfs=1&arphpl=1&checkin=2024-04-04&checkout=2024-04-05&dest_id=900056686&dest_type=city&group_adults=1&req_adults=1&no_rooms=1&group_children=0&req_children=0&hpos=16&hapos=66&sr_order=popularity&srpvid=055b6563793c010b&srepoch=1712240815&all_sr_blocks=1134212701_388013014_4_42_0&highlighted_blocks=1134212701_388013014_4_42_0&matching_block_id=1134212701_388013014_4_42_0&sr_pri_blocks=1134212701_388013014_4_42_0__699900&dcs_click=1&from=searchresults#hotelTmpl\n",
      "Getting Text Dump from -- https://www.booking.com/hotel/in/dreamland-home-stay-jalori-pass.html?label=bc29a95ef28e11ee8e8d715acd892bb1&sid=e24ce1e10494bbdad81eea9e540790e5&aid=2167732&ucfs=1&arphpl=1&checkin=2024-04-04&checkout=2024-04-05&group_adults=1&req_adults=1&no_rooms=1&group_children=0&req_children=0&hpos=3&hapos=3&sr_order=popularity&srpvid=0a346b22766c00ed&srepoch=1712243656&all_sr_blocks=498635201_179687932_0_0_0&highlighted_blocks=498635201_179687932_0_0_0&matching_block_id=498635201_179687932_0_0_0&sr_pri_blocks=498635201_179687932_0_0_0__585600&from=searchresults#hotelTmpl\n",
      "Getting Text Dump from -- https://www.booking.com/hotel/in/himalayan-chalet-jibhi.html?label=bc29a95ef28e11ee8e8d715acd892bb1&sid=f7dfbf4df493fe46ecc5e846650e34cc&aid=2167732&ucfs=1&arphpl=1&checkin=2024-04-04&checkout=2024-04-05&dest_id=900056686&dest_type=city&group_adults=1&req_adults=1&no_rooms=1&group_children=0&req_children=0&hpos=2&hapos=52&sr_order=popularity&srpvid=055b6563793c010b&srepoch=1712240815&all_sr_blocks=1137787801_386501665_1_2_0&highlighted_blocks=1137787801_386501665_1_2_0&matching_block_id=1137787801_386501665_1_2_0&sr_pri_blocks=1137787801_386501665_1_2_0__585000&dcs_click=1&from=searchresults#hotelTmpl\n",
      "Getting Text Dump from -- https://www.booking.com/hotel/in/the-blue-stream-cottage.html?label=bc29a95ef28e11ee8e8d715acd892bb1&sid=f7dfbf4df493fe46ecc5e846650e34cc&aid=2167732&ucfs=1&arphpl=1&checkin=2024-04-04&checkout=2024-04-05&dest_id=900056686&dest_type=city&group_adults=1&req_adults=1&no_rooms=1&group_children=0&req_children=0&hpos=6&hapos=31&sr_order=popularity&srpvid=055b6563793c010b&srepoch=1712240812&all_sr_blocks=633125301_335433369_0_0_0&highlighted_blocks=633125301_335433369_0_0_0&matching_block_id=633125301_335433369_0_0_0&sr_pri_blocks=633125301_335433369_0_0_0__570000&dcs_click=1&from=searchresults#hotelTmpl\n",
      "Getting Text Dump from -- https://www.booking.com/hotel/in/rustic-treehouse-in-da-mountains.html?label=bc29a95ef28e11ee8e8d715acd892bb1&sid=f7dfbf4df493fe46ecc5e846650e34cc&aid=2167732&ucfs=1&arphpl=1&checkin=2024-04-04&checkout=2024-04-05&dest_id=900056686&dest_type=city&group_adults=1&req_adults=1&no_rooms=1&group_children=0&req_children=0&hpos=11&hapos=61&sr_order=popularity&srpvid=055b6563793c010b&srepoch=1712240815&all_sr_blocks=1140471601_386912202_1_2_0&highlighted_blocks=1140471601_386912202_1_2_0&matching_block_id=1140471601_386912202_1_2_0&sr_pri_blocks=1140471601_386912202_1_2_0__497728&dcs_click=1&from=searchresults#hotelTmpl\n",
      "Getting Text Dump from -- https://www.booking.com/hotel/in/sunlight-tree-house-and-cottage.html?label=bc29a95ef28e11ee8e8d715acd892bb1&sid=f7dfbf4df493fe46ecc5e846650e34cc&aid=2167732&ucfs=1&arphpl=1&checkin=2024-04-04&checkout=2024-04-05&dest_id=900056686&dest_type=city&group_adults=1&req_adults=1&no_rooms=1&group_children=0&req_children=0&hpos=11&hapos=36&sr_order=popularity&srpvid=055b6563793c010b&srepoch=1712240812&all_sr_blocks=1181395001_390578045_1_42_0&highlighted_blocks=1181395001_390578045_1_42_0&matching_block_id=1181395001_390578045_1_42_0&sr_pri_blocks=1181395001_390578045_1_42_0__455000&dcs_click=1&from=searchresults#hotelTmpl\n",
      "Getting Text Dump from -- https://www.booking.com/hotel/in/nebula-nook-treehouse.html?label=bc29a95ef28e11ee8e8d715acd892bb1&sid=f7dfbf4df493fe46ecc5e846650e34cc&aid=2167732&ucfs=1&arphpl=1&checkin=2024-04-04&checkout=2024-04-05&dest_id=900056686&dest_type=city&group_adults=1&req_adults=1&no_rooms=1&group_children=0&req_children=0&hpos=5&hapos=55&sr_order=popularity&srpvid=055b6563793c010b&srepoch=1712240815&all_sr_blocks=1099135901_382777187_2_1_0&highlighted_blocks=1099135901_382777187_2_1_0&matching_block_id=1099135901_382777187_2_1_0&sr_pri_blocks=1099135901_382777187_2_1_0__405000&from_sustainable_property_sr=1&dcs_click=1&from=searchresults#hotelTmpl\n",
      "Getting Text Dump from -- https://www.booking.com/hotel/in/the-little-nest-jibhi.html?label=bc29a95ef28e11ee8e8d715acd892bb1&sid=f7dfbf4df493fe46ecc5e846650e34cc&aid=2167732&ucfs=1&arphpl=1&checkin=2024-04-04&checkout=2024-04-05&dest_id=900056686&dest_type=city&group_adults=1&req_adults=1&no_rooms=1&group_children=0&req_children=0&hpos=4&hapos=54&sr_order=popularity&srpvid=055b6563793c010b&srepoch=1712240815&all_sr_blocks=1144457501_387287657_1_1_0&highlighted_blocks=1144457501_387287657_1_1_0&matching_block_id=1144457501_387287657_1_1_0&sr_pri_blocks=1144457501_387287657_1_1_0__394400&dcs_click=1&from=searchresults#hotelTmpl\n",
      "Getting Text Dump from -- https://www.booking.com/hotel/in/white-hill-jibhi-by-peppy-nomads.html?label=bc29a95ef28e11ee8e8d715acd892bb1&sid=f7dfbf4df493fe46ecc5e846650e34cc&aid=2167732&ucfs=1&arphpl=1&checkin=2024-04-04&checkout=2024-04-05&dest_id=900056686&dest_type=city&group_adults=1&req_adults=1&no_rooms=1&group_children=0&req_children=0&hpos=19&hapos=19&sr_order=popularity&srpvid=055b6563793c010b&srepoch=1712240831&all_sr_blocks=802515509_374430326_1_0_0&highlighted_blocks=802515509_374430326_1_0_0&matching_block_id=802515509_374430326_1_0_0&sr_pri_blocks=802515509_374430326_1_0_0__388800&from_sustainable_property_sr=1&dcs_click=1&from=searchresults#hotelTmpl\n",
      "Getting Text Dump from -- https://www.booking.com/hotel/in/the-acoustic-cabins-riverside-main-jibhi.html?label=bc29a95ef28e11ee8e8d715acd892bb1&sid=f7dfbf4df493fe46ecc5e846650e34cc&aid=2167732&ucfs=1&arphpl=1&checkin=2024-04-04&checkout=2024-04-05&dest_id=900056686&dest_type=city&group_adults=1&req_adults=1&no_rooms=1&group_children=0&req_children=0&hpos=9&hapos=59&sr_order=popularity&srpvid=055b6563793c010b&srepoch=1712240815&all_sr_blocks=1038421901_376340202_1_0_0&highlighted_blocks=1038421901_376340202_1_0_0&matching_block_id=1038421901_376340202_1_0_0&sr_pri_blocks=1038421901_376340202_1_0_0__359910&dcs_click=1&from=searchresults#hotelTmpl\n",
      "Getting Text Dump from -- https://www.booking.com/hotel/in/livingstone-cottage-in-jibhi.html?label=bc29a95ef28e11ee8e8d715acd892bb1&sid=f7dfbf4df493fe46ecc5e846650e34cc&aid=2167732&ucfs=1&arphpl=1&checkin=2024-04-04&checkout=2024-04-05&dest_id=900056686&dest_type=city&group_adults=1&req_adults=1&no_rooms=1&group_children=0&req_children=0&hpos=10&hapos=60&sr_order=popularity&srpvid=055b6563793c010b&srepoch=1712240815&all_sr_blocks=737667302_334775602_2_0_0&highlighted_blocks=737667302_334775602_2_0_0&matching_block_id=737667302_334775602_2_0_0&sr_pri_blocks=737667302_334775602_2_0_0__357200&dcs_click=1&from=searchresults#hotelTmpl\n",
      "Getting Text Dump from -- https://www.booking.com/hotel/in/divine-treehouse-jibhi.html?label=bc29a95ef28e11ee8e8d715acd892bb1&sid=f7dfbf4df493fe46ecc5e846650e34cc&aid=2167732&ucfs=1&arphpl=1&checkin=2024-04-04&checkout=2024-04-05&dest_id=900056686&dest_type=city&group_adults=1&req_adults=1&no_rooms=1&group_children=0&req_children=0&hpos=13&hapos=38&sr_order=popularity&srpvid=055b6563793c010b&srepoch=1712240812&all_sr_blocks=1181300801_390567403_1_2_0&highlighted_blocks=1181300801_390567403_1_2_0&matching_block_id=1181300801_390567403_1_2_0&sr_pri_blocks=1181300801_390567403_1_2_0__352000&dcs_click=1&from=searchresults#hotelTmpl\n",
      "Getting Text Dump from -- https://www.booking.com/hotel/in/swarg-homestay.html?label=bc29a95ef28e11ee8e8d715acd892bb1&sid=f7dfbf4df493fe46ecc5e846650e34cc&aid=2167732&ucfs=1&arphpl=1&checkin=2024-04-04&checkout=2024-04-05&dest_id=900056686&dest_type=city&group_adults=1&req_adults=1&no_rooms=1&group_children=0&req_children=0&hpos=8&hapos=58&sr_order=popularity&srpvid=055b6563793c010b&srepoch=1712240815&all_sr_blocks=921097901_379169344_2_2_0&highlighted_blocks=921097901_379169344_2_2_0&matching_block_id=921097901_379169344_2_2_0&sr_pri_blocks=921097901_379169344_2_2_0__350625&dcs_click=1&from=searchresults#hotelTmpl\n",
      "Getting Text Dump from -- https://www.booking.com/hotel/in/the-casa-alpino-cottages.html?label=bc29a95ef28e11ee8e8d715acd892bb1&sid=f7dfbf4df493fe46ecc5e846650e34cc&aid=2167732&ucfs=1&arphpl=1&checkin=2024-04-04&checkout=2024-04-05&dest_id=900056686&dest_type=city&group_adults=1&req_adults=1&no_rooms=1&group_children=0&req_children=0&hpos=8&hapos=33&sr_order=popularity&srpvid=055b6563793c010b&srepoch=1712240812&all_sr_blocks=1102927101_383059879_1_2_0&highlighted_blocks=1102927101_383059879_1_2_0&matching_block_id=1102927101_383059879_1_2_0&sr_pri_blocks=1102927101_383059879_1_2_0__342000&from_sustainable_property_sr=1&dcs_click=1&from=searchresults#hotelTmpl\n",
      "Getting Text Dump from -- https://www.booking.com/hotel/in/peppy-nomads.html?label=bc29a95ef28e11ee8e8d715acd892bb1&sid=f7dfbf4df493fe46ecc5e846650e34cc&aid=2167732&ucfs=1&arphpl=1&checkin=2024-04-04&checkout=2024-04-05&dest_id=900056686&dest_type=city&group_adults=1&req_adults=1&no_rooms=1&group_children=0&req_children=0&hpos=3&hapos=28&sr_order=popularity&srpvid=055b6563793c010b&srepoch=1712240812&all_sr_blocks=530601206_374430337_1_0_0&highlighted_blocks=530601206_374430337_1_0_0&matching_block_id=530601206_374430337_1_0_0&sr_pri_blocks=530601206_374430337_1_0_0__315000&dcs_click=1&from=searchresults#hotelTmpl\n",
      "Getting Text Dump from -- https://www.booking.com/hotel/in/the-woods-cottage-jibhi.html?label=bc29a95ef28e11ee8e8d715acd892bb1&sid=f7dfbf4df493fe46ecc5e846650e34cc&aid=2167732&ucfs=1&arphpl=1&checkin=2024-04-04&checkout=2024-04-05&dest_id=900056686&dest_type=city&group_adults=1&req_adults=1&no_rooms=1&group_children=0&req_children=0&hpos=15&hapos=65&sr_order=popularity&srpvid=055b6563793c010b&srepoch=1712240815&all_sr_blocks=1135647401_386206547_1_2_0&highlighted_blocks=1135647401_386206547_1_2_0&matching_block_id=1135647401_386206547_1_2_0&sr_pri_blocks=1135647401_386206547_1_2_0__307200&dcs_click=1&from=searchresults#hotelTmpl\n",
      "Getting Text Dump from -- https://www.booking.com/hotel/in/sunshine-cafe-amp-cottage.html?label=bc29a95ef28e11ee8e8d715acd892bb1&sid=e24ce1e10494bbdad81eea9e540790e5&aid=2167732&ucfs=1&arphpl=1&checkin=2024-04-04&checkout=2024-04-05&group_adults=1&req_adults=1&no_rooms=1&group_children=0&req_children=0&hpos=2&hapos=2&sr_order=popularity&srpvid=0a346b22766c00ed&srepoch=1712243656&all_sr_blocks=964256601_368970835_2_1_0&highlighted_blocks=964256601_368970835_2_1_0&matching_block_id=964256601_368970835_2_1_0&sr_pri_blocks=964256601_368970835_2_1_0__285086&from=searchresults#hotelTmpl\n",
      "Getting Text Dump from -- https://www.booking.com/hotel/in/the-grear-escape-a-jibhi-paradise.html?label=bc29a95ef28e11ee8e8d715acd892bb1&sid=f7dfbf4df493fe46ecc5e846650e34cc&aid=2167732&ucfs=1&arphpl=1&checkin=2024-04-04&checkout=2024-04-05&dest_id=900056686&dest_type=city&group_adults=1&req_adults=1&no_rooms=1&group_children=0&req_children=0&hpos=21&hapos=46&sr_order=popularity&srpvid=055b6563793c010b&srepoch=1712240812&all_sr_blocks=1109860501_383724357_1_42_0&highlighted_blocks=1109860501_383724357_1_42_0&matching_block_id=1109860501_383724357_1_42_0&sr_pri_blocks=1109860501_383724357_1_42_0__280000&dcs_click=1&from=searchresults#hotelTmpl\n",
      "Getting Text Dump from -- https://www.booking.com/hotel/in/lovely-aframe-i-riversidei-250m-steep-treki.html?label=bc29a95ef28e11ee8e8d715acd892bb1&sid=f7dfbf4df493fe46ecc5e846650e34cc&aid=2167732&ucfs=1&arphpl=1&checkin=2024-04-04&checkout=2024-04-05&dest_id=900056686&dest_type=city&group_adults=1&req_adults=1&no_rooms=1&group_children=0&req_children=0&hpos=14&hapos=39&sr_order=popularity&srpvid=055b6563793c010b&srepoch=1712240812&all_sr_blocks=1104111801_383231175_2_0_0&highlighted_blocks=1104111801_383231175_2_0_0&matching_block_id=1104111801_383231175_2_0_0&sr_pri_blocks=1104111801_383231175_2_0_0__280000&from_sustainable_property_sr=1&dcs_click=1&from=searchresults#hotelTmpl\n",
      "Getting Text Dump from -- https://www.booking.com/hotel/in/mystic-vibes.html?label=bc29a95ef28e11ee8e8d715acd892bb1&sid=f7dfbf4df493fe46ecc5e846650e34cc&aid=2167732&ucfs=1&arphpl=1&checkin=2024-04-04&checkout=2024-04-05&dest_id=900056686&dest_type=city&group_adults=1&req_adults=1&no_rooms=1&group_children=0&req_children=0&hpos=24&hapos=49&sr_order=popularity&srpvid=055b6563793c010b&srepoch=1712240812&all_sr_blocks=842394701_351002343_0_42_0&highlighted_blocks=842394701_351002343_0_42_0&matching_block_id=842394701_351002343_0_42_0&sr_pri_blocks=842394701_351002343_0_42_0__279900&from_sustainable_property_sr=1&dcs_click=1&from=searchresults#hotelTmpl\n",
      "Getting Text Dump from -- https://www.booking.com/hotel/in/marigold-paradise.html?label=bc29a95ef28e11ee8e8d715acd892bb1&sid=f7dfbf4df493fe46ecc5e846650e34cc&aid=2167732&ucfs=1&arphpl=1&checkin=2024-04-04&checkout=2024-04-05&dest_id=900056686&dest_type=city&group_adults=1&req_adults=1&no_rooms=1&group_children=0&req_children=0&hpos=15&hapos=40&sr_order=popularity&srpvid=055b6563793c010b&srepoch=1712240812&all_sr_blocks=998430401_372685009_1_0_0&highlighted_blocks=998430401_372685009_1_0_0&matching_block_id=998430401_372685009_1_0_0&sr_pri_blocks=998430401_372685009_1_0_0__270810&dcs_click=1&from=searchresults#hotelTmpl\n",
      "Getting Text Dump from -- https://www.booking.com/hotel/in/himalayan-outskrit-cottages.html?label=bc29a95ef28e11ee8e8d715acd892bb1&sid=f7dfbf4df493fe46ecc5e846650e34cc&aid=2167732&ucfs=1&arphpl=1&checkin=2024-04-04&checkout=2024-04-05&dest_id=900056686&dest_type=city&group_adults=1&req_adults=1&no_rooms=1&group_children=0&req_children=0&hpos=3&hapos=53&sr_order=popularity&srpvid=055b6563793c010b&srepoch=1712240815&all_sr_blocks=1040674201_376511679_1_0_0&highlighted_blocks=1040674201_376511679_1_0_0&matching_block_id=1040674201_376511679_1_0_0&sr_pri_blocks=1040674201_376511679_1_0_0__270000&dcs_click=1&from=searchresults#hotelTmpl\n",
      "Getting Text Dump from -- https://www.booking.com/hotel/in/basera-cottage-main-jibhi.html?label=bc29a95ef28e11ee8e8d715acd892bb1&sid=f7dfbf4df493fe46ecc5e846650e34cc&aid=2167732&ucfs=1&arphpl=1&checkin=2024-04-04&checkout=2024-04-05&dest_id=900056686&dest_type=city&group_adults=1&req_adults=1&no_rooms=1&group_children=0&req_children=0&hpos=13&hapos=63&sr_order=popularity&srpvid=055b6563793c010b&srepoch=1712240815&all_sr_blocks=1060719201_378382126_1_0_0&highlighted_blocks=1060719201_378382126_1_0_0&matching_block_id=1060719201_378382126_1_0_0&sr_pri_blocks=1060719201_378382126_1_0_0__269910&dcs_click=1&from=searchresults#hotelTmpl\n",
      "Getting Text Dump from -- https://www.booking.com/hotel/in/the-little-nest-the-dreamy-den.html?label=bc29a95ef28e11ee8e8d715acd892bb1&sid=f7dfbf4df493fe46ecc5e846650e34cc&aid=2167732&ucfs=1&arphpl=1&checkin=2024-04-04&checkout=2024-04-05&dest_id=900056686&dest_type=city&group_adults=1&req_adults=1&no_rooms=1&group_children=0&req_children=0&hpos=7&hapos=32&sr_order=popularity&srpvid=055b6563793c010b&srepoch=1712240812&all_sr_blocks=1144919001_387327962_1_1_0&highlighted_blocks=1144919001_387327962_1_1_0&matching_block_id=1144919001_387327962_1_1_0&sr_pri_blocks=1144919001_387327962_1_1_0__258400&dcs_click=1&from=searchresults#hotelTmpl\n",
      "Getting Text Dump from -- https://www.booking.com/hotel/in/freebird-nest-2-0.html?label=bc29a95ef28e11ee8e8d715acd892bb1&sid=f7dfbf4df493fe46ecc5e846650e34cc&aid=2167732&ucfs=1&arphpl=1&checkin=2024-04-04&checkout=2024-04-05&dest_id=900056686&dest_type=city&group_adults=1&req_adults=1&no_rooms=1&group_children=0&req_children=0&hpos=5&hapos=5&sr_order=popularity&srpvid=055b6563793c010b&srepoch=1712240831&all_sr_blocks=965537901_369306841_1_42_0&highlighted_blocks=965537901_369306841_1_42_0&matching_block_id=965537901_369306841_1_42_0&sr_pri_blocks=965537901_369306841_1_42_0__255150&dcs_click=1&from=searchresults#hotelTmpl\n",
      "Getting Text Dump from -- https://www.booking.com/hotel/in/the-pahadi-earthen-home-jibhi.html?label=bc29a95ef28e11ee8e8d715acd892bb1&sid=f7dfbf4df493fe46ecc5e846650e34cc&aid=2167732&ucfs=1&arphpl=1&checkin=2024-04-04&checkout=2024-04-05&dest_id=900056686&dest_type=city&group_adults=1&req_adults=1&no_rooms=1&group_children=0&req_children=0&hpos=25&hapos=50&sr_order=popularity&srpvid=055b6563793c010b&srepoch=1712240812&all_sr_blocks=1152681601_388254000_2_0_0&highlighted_blocks=1152681601_388254000_2_0_0&matching_block_id=1152681601_388254000_2_0_0&sr_pri_blocks=1152681601_388254000_2_0_0__252450&from_sustainable_property_sr=1&dcs_click=1&from=searchresults#hotelTmpl\n",
      "Getting Text Dump from -- https://www.booking.com/hotel/in/s-star-homestay.html?label=bc29a95ef28e11ee8e8d715acd892bb1&sid=f7dfbf4df493fe46ecc5e846650e34cc&aid=2167732&ucfs=1&arphpl=1&checkin=2024-04-04&checkout=2024-04-05&dest_id=900056686&dest_type=city&group_adults=1&req_adults=1&no_rooms=1&group_children=0&req_children=0&hpos=1&hapos=51&sr_order=popularity&srpvid=055b6563793c010b&srepoch=1712240815&all_sr_blocks=1126396201_385293712_1_1_0&highlighted_blocks=1126396201_385293712_1_1_0&matching_block_id=1126396201_385293712_1_1_0&sr_pri_blocks=1126396201_385293712_1_1_0__252000&dcs_click=1&from=searchresults#hotelTmpl\n",
      "Getting Text Dump from -- https://www.booking.com/hotel/in/khwabeeda-stays-jibhi-himachal-prad.html?label=bc29a95ef28e11ee8e8d715acd892bb1&sid=f7dfbf4df493fe46ecc5e846650e34cc&aid=2167732&ucfs=1&arphpl=1&checkin=2024-04-04&checkout=2024-04-05&dest_id=900056686&dest_type=city&group_adults=1&req_adults=1&no_rooms=1&group_children=0&req_children=0&hpos=4&hapos=4&sr_order=popularity&srpvid=055b6563793c010b&srepoch=1712240831&all_sr_blocks=830245001_348993731_0_42_0&highlighted_blocks=830245001_348993731_0_42_0&matching_block_id=830245001_348993731_0_42_0&sr_pri_blocks=830245001_348993731_0_42_0__250000&from_sustainable_property_sr=1&dcs_click=1&from=searchresults#hotelTmpl\n",
      "Getting Text Dump from -- https://www.booking.com/hotel/in/the-misty-wilds-home-hirab-valley.html?label=bc29a95ef28e11ee8e8d715acd892bb1&sid=f7dfbf4df493fe46ecc5e846650e34cc&aid=2167732&ucfs=1&arphpl=1&checkin=2024-04-04&checkout=2024-04-05&dest_id=900056686&dest_type=city&group_adults=1&req_adults=1&no_rooms=1&group_children=0&req_children=0&hpos=15&hapos=15&sr_order=popularity&srpvid=055b6563793c010b&srepoch=1712240831&all_sr_blocks=799314201_372932899_1_41_0&highlighted_blocks=799314201_372932899_1_41_0&matching_block_id=799314201_372932899_1_41_0&sr_pri_blocks=799314201_372932899_1_41_0__247920&from_sustainable_property_sr=1&dcs_click=1&from=searchresults#hotelTmpl\n",
      "Getting Text Dump from -- https://www.booking.com/hotel/in/dream-wood-cottage-jibhi-biinnii.html?label=bc29a95ef28e11ee8e8d715acd892bb1&sid=f7dfbf4df493fe46ecc5e846650e34cc&aid=2167732&ucfs=1&arphpl=1&checkin=2024-04-04&checkout=2024-04-05&dest_id=900056686&dest_type=city&group_adults=1&req_adults=1&no_rooms=1&group_children=0&req_children=0&hpos=12&hapos=62&sr_order=popularity&srpvid=055b6563793c010b&srepoch=1712240815&all_sr_blocks=1136283701_386257274_1_0_0&highlighted_blocks=1136283701_386257274_1_0_0&matching_block_id=1136283701_386257274_1_0_0&sr_pri_blocks=1136283701_386257274_1_0_0__240000&dcs_click=1&from=searchresults#hotelTmpl\n",
      "Getting Text Dump from -- https://www.booking.com/hotel/in/hidab-homes.html?label=bc29a95ef28e11ee8e8d715acd892bb1&sid=f7dfbf4df493fe46ecc5e846650e34cc&aid=2167732&ucfs=1&arphpl=1&checkin=2024-04-04&checkout=2024-04-05&dest_id=900056686&dest_type=city&group_adults=1&req_adults=1&no_rooms=1&group_children=0&req_children=0&hpos=9&hapos=34&sr_order=popularity&srpvid=055b6563793c010b&srepoch=1712240812&all_sr_blocks=842920501_390179461_1_41_0&highlighted_blocks=842920501_390179461_1_41_0&matching_block_id=842920501_390179461_1_41_0&sr_pri_blocks=842920501_390179461_1_41_0__230328&from_sustainable_property_sr=1&dcs_click=1&from=searchresults#hotelTmpl\n",
      "Getting Text Dump from -- https://www.booking.com/hotel/in/kiran-home-stay-kullu.html?label=bc29a95ef28e11ee8e8d715acd892bb1&sid=e24ce1e10494bbdad81eea9e540790e5&aid=2167732&ucfs=1&arphpl=1&checkin=2024-04-04&checkout=2024-04-05&group_adults=1&req_adults=1&no_rooms=1&group_children=0&req_children=0&hpos=6&hapos=6&sr_order=popularity&srpvid=0a346b22766c00ed&srepoch=1712243656&all_sr_blocks=1156994201_388477159_0_1_0&highlighted_blocks=1156994201_388477159_0_1_0&matching_block_id=1156994201_388477159_0_1_0&sr_pri_blocks=1156994201_388477159_0_1_0__225000&from=searchresults#hotelTmpl\n",
      "Getting Text Dump from -- https://www.booking.com/hotel/in/the-village-view-home-stau.html?label=bc29a95ef28e11ee8e8d715acd892bb1&sid=f7dfbf4df493fe46ecc5e846650e34cc&aid=2167732&ucfs=1&arphpl=1&checkin=2024-04-04&checkout=2024-04-05&dest_id=900056686&dest_type=city&group_adults=1&req_adults=1&no_rooms=1&group_children=0&req_children=0&hpos=5&hapos=30&sr_order=popularity&srpvid=055b6563793c010b&srepoch=1712240812&all_sr_blocks=914345101_390400776_1_1_0&highlighted_blocks=914345101_390400776_1_1_0&matching_block_id=914345101_390400776_1_1_0&sr_pri_blocks=914345101_390400776_1_1_0__223920&from_sustainable_property_sr=1&dcs_click=1&from=searchresults#hotelTmpl\n",
      "Getting Text Dump from -- https://www.booking.com/hotel/in/rana-swiss-cottages-jibhi.html?label=bc29a95ef28e11ee8e8d715acd892bb1&sid=f7dfbf4df493fe46ecc5e846650e34cc&aid=2167732&ucfs=1&arphpl=1&checkin=2024-04-04&checkout=2024-04-05&dest_id=900056686&dest_type=city&group_adults=1&req_adults=1&no_rooms=1&group_children=0&req_children=0&hpos=17&hapos=42&sr_order=popularity&srpvid=055b6563793c010b&srepoch=1712240812&all_sr_blocks=1077183704_380307224_1_2_0&highlighted_blocks=1077183704_380307224_1_2_0&matching_block_id=1077183704_380307224_1_2_0&sr_pri_blocks=1077183704_380307224_1_2_0__220000&dcs_click=1&from=searchresults#hotelTmpl\n",
      "Getting Text Dump from -- https://www.booking.com/hotel/in/wildwood-home.html?label=bc29a95ef28e11ee8e8d715acd892bb1&sid=f7dfbf4df493fe46ecc5e846650e34cc&aid=2167732&ucfs=1&arphpl=1&checkin=2024-04-04&checkout=2024-04-05&dest_id=900056686&dest_type=city&group_adults=1&req_adults=1&no_rooms=1&group_children=0&req_children=0&hpos=23&hapos=23&sr_order=popularity&srpvid=055b6563793c010b&srepoch=1712240831&all_sr_blocks=724291905_310125352_2_2_0&highlighted_blocks=724291905_310125352_2_2_0&matching_block_id=724291905_310125352_2_2_0&sr_pri_blocks=724291905_310125352_2_2_0__220000&dcs_click=1&from=searchresults#hotelTmpl\n",
      "Getting Text Dump from -- https://www.booking.com/hotel/in/2-little-monks-cafe-and-stays.html?label=bc29a95ef28e11ee8e8d715acd892bb1&sid=f7dfbf4df493fe46ecc5e846650e34cc&aid=2167732&ucfs=1&arphpl=1&checkin=2024-04-04&checkout=2024-04-05&dest_id=900056686&dest_type=city&group_adults=1&req_adults=1&no_rooms=1&group_children=0&req_children=0&hpos=2&hapos=27&sr_order=popularity&srpvid=055b6563793c010b&srepoch=1712240812&all_sr_blocks=1118779601_384705564_1_2_0&highlighted_blocks=1118779601_384705564_1_2_0&matching_block_id=1118779601_384705564_1_2_0&sr_pri_blocks=1118779601_384705564_1_2_0__206100&dcs_click=1&from=searchresults#hotelTmpl\n",
      "Getting Text Dump from -- https://www.booking.com/hotel/in/forest-view-cottage-jibhi.html?label=bc29a95ef28e11ee8e8d715acd892bb1&sid=f7dfbf4df493fe46ecc5e846650e34cc&aid=2167732&ucfs=1&arphpl=1&checkin=2024-04-04&checkout=2024-04-05&dest_id=900056686&dest_type=city&group_adults=1&req_adults=1&no_rooms=1&group_children=0&req_children=0&hpos=19&hapos=44&sr_order=popularity&srpvid=055b6563793c010b&srepoch=1712240812&all_sr_blocks=1132730801_385918384_1_2_0&highlighted_blocks=1132730801_385918384_1_2_0&matching_block_id=1132730801_385918384_1_2_0&sr_pri_blocks=1132730801_385918384_1_2_0__200000&dcs_click=1&from=searchresults#hotelTmpl\n",
      "Getting Text Dump from -- https://www.booking.com/hotel/in/hillside-hideaway-kullu.html?label=bc29a95ef28e11ee8e8d715acd892bb1&sid=f7dfbf4df493fe46ecc5e846650e34cc&aid=2167732&ucfs=1&arphpl=1&checkin=2024-04-04&checkout=2024-04-05&dest_id=900056686&dest_type=city&group_adults=1&req_adults=1&no_rooms=1&group_children=0&req_children=0&hpos=18&hapos=18&sr_order=popularity&srpvid=055b6563793c010b&srepoch=1712240831&all_sr_blocks=1180951906_390540058_2_2_0&highlighted_blocks=1180951906_390540058_2_2_0&matching_block_id=1180951906_390540058_2_2_0&sr_pri_blocks=1180951906_390540058_2_2_0__200000&dcs_click=1&from=searchresults#hotelTmpl\n",
      "Getting Text Dump from -- https://www.booking.com/hotel/in/hilltop-home-stay-and-cafe.html?label=bc29a95ef28e11ee8e8d715acd892bb1&sid=f7dfbf4df493fe46ecc5e846650e34cc&aid=2167732&ucfs=1&arphpl=1&checkin=2024-04-04&checkout=2024-04-05&dest_id=900056686&dest_type=city&group_adults=1&req_adults=1&no_rooms=1&group_children=0&req_children=0&hpos=25&hapos=25&sr_order=popularity&srpvid=055b6563793c010b&srepoch=1712240831&all_sr_blocks=1154029401_388182038_2_2_0&highlighted_blocks=1154029401_388182038_2_2_0&matching_block_id=1154029401_388182038_2_2_0&sr_pri_blocks=1154029401_388182038_2_2_0__200000&dcs_click=1&from=searchresults#hotelTmpl\n",
      "Getting Text Dump from -- https://www.booking.com/hotel/in/whoopers-jibhi.html?label=bc29a95ef28e11ee8e8d715acd892bb1&sid=f7dfbf4df493fe46ecc5e846650e34cc&aid=2167732&ucfs=1&arphpl=1&checkin=2024-04-04&checkout=2024-04-05&dest_id=900056686&dest_type=city&group_adults=1&req_adults=1&no_rooms=1&group_children=0&req_children=0&hpos=7&hapos=7&sr_order=popularity&srpvid=055b6563793c010b&srepoch=1712240831&all_sr_blocks=715960008_373902436_2_2_0&highlighted_blocks=715960008_373902436_2_2_0&matching_block_id=715960008_373902436_2_2_0&sr_pri_blocks=715960008_373902436_2_2_0__199920&from_sustainable_property_sr=1&dcs_click=1&from=searchresults#hotelTmpl\n",
      "Getting Text Dump from -- https://www.booking.com/hotel/in/god-wood-homestay-shoja.html?label=bc29a95ef28e11ee8e8d715acd892bb1&sid=e24ce1e10494bbdad81eea9e540790e5&aid=2167732&ucfs=1&arphpl=1&checkin=2024-04-04&checkout=2024-04-05&group_adults=1&req_adults=1&no_rooms=1&group_children=0&req_children=0&hpos=4&hapos=4&sr_order=popularity&srpvid=0a346b22766c00ed&srepoch=1712243656&all_sr_blocks=1180005101_390458765_2_2_0&highlighted_blocks=1180005101_390458765_2_2_0&matching_block_id=1180005101_390458765_2_2_0&sr_pri_blocks=1180005101_390458765_2_2_0__198000&from=searchresults#hotelTmpl\n",
      "Getting Text Dump from -- https://www.booking.com/hotel/in/the-martens.html?label=bc29a95ef28e11ee8e8d715acd892bb1&sid=f7dfbf4df493fe46ecc5e846650e34cc&aid=2167732&ucfs=1&arphpl=1&checkin=2024-04-04&checkout=2024-04-05&dest_id=900056686&dest_type=city&group_adults=1&req_adults=1&no_rooms=1&group_children=0&req_children=0&hpos=22&hapos=47&sr_order=popularity&srpvid=055b6563793c010b&srepoch=1712240812&all_sr_blocks=1140638201_387894840_1_2_0&highlighted_blocks=1140638201_387894840_1_2_0&matching_block_id=1140638201_387894840_1_2_0&sr_pri_blocks=1140638201_387894840_1_2_0__192000&from_sustainable_property_sr=1&dcs_click=1&from=searchresults#hotelTmpl\n",
      "Getting Text Dump from -- https://www.booking.com/hotel/in/hth-by-hostalgic.html?label=bc29a95ef28e11ee8e8d715acd892bb1&sid=f7dfbf4df493fe46ecc5e846650e34cc&aid=2167732&ucfs=1&arphpl=1&checkin=2024-04-04&checkout=2024-04-05&dest_id=900056686&dest_type=city&group_adults=1&req_adults=1&no_rooms=1&group_children=0&req_children=0&hpos=16&hapos=16&sr_order=popularity&srpvid=055b6563793c010b&srepoch=1712240831&all_sr_blocks=1179658905_390626830_2_42_0&highlighted_blocks=1179658905_390626830_2_42_0&matching_block_id=1179658905_390626830_2_42_0&sr_pri_blocks=1179658905_390626830_2_42_0__184000&dcs_click=1&from=searchresults#hotelTmpl\n",
      "Getting Text Dump from -- https://www.booking.com/hotel/in/crystal-mountain-jibhi-kullu-hp.html?label=bc29a95ef28e11ee8e8d715acd892bb1&sid=f7dfbf4df493fe46ecc5e846650e34cc&aid=2167732&ucfs=1&arphpl=1&checkin=2024-04-04&checkout=2024-04-05&dest_id=900056686&dest_type=city&group_adults=1&req_adults=1&no_rooms=1&group_children=0&req_children=0&hpos=1&hapos=26&sr_order=popularity&srpvid=055b6563793c010b&srepoch=1712240812&all_sr_blocks=1161679301_389638166_2_2_0&highlighted_blocks=1161679301_389638166_2_2_0&matching_block_id=1161679301_389638166_2_2_0&sr_pri_blocks=1161679301_389638166_2_2_0__180000&dcs_click=1&from=searchresults#hotelTmpl\n",
      "Getting Text Dump from -- https://www.booking.com/hotel/in/rio-paradise-jibhi-jibhi1.html?label=bc29a95ef28e11ee8e8d715acd892bb1&sid=f7dfbf4df493fe46ecc5e846650e34cc&aid=2167732&ucfs=1&arphpl=1&checkin=2024-04-04&checkout=2024-04-05&dest_id=900056686&dest_type=city&group_adults=1&req_adults=1&no_rooms=1&group_children=0&req_children=0&hpos=10&hapos=35&sr_order=popularity&srpvid=055b6563793c010b&srepoch=1712240812&all_sr_blocks=692857801_285293930_1_42_0&highlighted_blocks=692857801_285293930_1_42_0&matching_block_id=692857801_285293930_1_42_0&sr_pri_blocks=692857801_285293930_1_42_0__180000&dcs_click=1&from=searchresults#hotelTmpl\n",
      "Getting Text Dump from -- https://www.booking.com/hotel/in/the-himalayan-sukoon-villa.html?label=bc29a95ef28e11ee8e8d715acd892bb1&sid=f7dfbf4df493fe46ecc5e846650e34cc&aid=2167732&ucfs=1&arphpl=1&checkin=2024-04-04&checkout=2024-04-05&dest_id=900056686&dest_type=city&group_adults=1&req_adults=1&no_rooms=1&group_children=0&req_children=0&hpos=20&hapos=45&sr_order=popularity&srpvid=055b6563793c010b&srepoch=1712240812&all_sr_blocks=996699601_372544949_1_41_0&highlighted_blocks=996699601_372544949_1_41_0&matching_block_id=996699601_372544949_1_41_0&sr_pri_blocks=996699601_372544949_1_41_0__179910&dcs_click=1&from=searchresults#hotelTmpl\n",
      "Getting Text Dump from -- https://www.booking.com/hotel/in/jibhi-mountain-retreat-jibhi.html?label=bc29a95ef28e11ee8e8d715acd892bb1&sid=f7dfbf4df493fe46ecc5e846650e34cc&aid=2167732&ucfs=1&arphpl=1&checkin=2024-04-04&checkout=2024-04-05&dest_id=900056686&dest_type=city&group_adults=1&req_adults=1&no_rooms=1&group_children=0&req_children=0&hpos=4&hapos=29&sr_order=popularity&srpvid=055b6563793c010b&srepoch=1712240812&all_sr_blocks=970643301_369467048_1_1_0&highlighted_blocks=970643301_369467048_1_1_0&matching_block_id=970643301_369467048_1_1_0&sr_pri_blocks=970643301_369467048_1_1_0__177760&dcs_click=1&from=searchresults#hotelTmpl\n",
      "Getting Text Dump from -- https://www.booking.com/hotel/in/jibhi-diaries-homestay.html?label=bc29a95ef28e11ee8e8d715acd892bb1&sid=f7dfbf4df493fe46ecc5e846650e34cc&aid=2167732&ucfs=1&arphpl=1&checkin=2024-04-04&checkout=2024-04-05&dest_id=900056686&dest_type=city&group_adults=1&req_adults=1&no_rooms=1&group_children=0&req_children=0&hpos=17&hapos=17&sr_order=popularity&srpvid=055b6563793c010b&srepoch=1712240831&all_sr_blocks=967871308_369227855_2_1_0&highlighted_blocks=967871308_369227855_2_1_0&matching_block_id=967871308_369227855_2_1_0&sr_pri_blocks=967871308_369227855_2_1_0__176400&from_sustainable_property_sr=1&dcs_click=1&from=searchresults#hotelTmpl\n",
      "Getting Text Dump from -- https://www.booking.com/hotel/in/anavrin-jibhi1.html?label=bc29a95ef28e11ee8e8d715acd892bb1&sid=f7dfbf4df493fe46ecc5e846650e34cc&aid=2167732&ucfs=1&arphpl=1&checkin=2024-04-04&checkout=2024-04-05&dest_id=900056686&dest_type=city&group_adults=1&req_adults=1&no_rooms=1&group_children=0&req_children=0&hpos=13&hapos=13&sr_order=popularity&srpvid=055b6563793c010b&srepoch=1712240831&all_sr_blocks=992439901_372209878_0_0_0&highlighted_blocks=992439901_372209878_0_0_0&matching_block_id=992439901_372209878_0_0_0&sr_pri_blocks=992439901_372209878_0_0_0__174755&dcs_click=1&from=searchresults#hotelTmpl\n",
      "Getting Text Dump from -- https://www.booking.com/hotel/in/venkys-place.html?label=bc29a95ef28e11ee8e8d715acd892bb1&sid=f7dfbf4df493fe46ecc5e846650e34cc&aid=2167732&ucfs=1&arphpl=1&checkin=2024-04-04&checkout=2024-04-05&dest_id=900056686&dest_type=city&group_adults=1&req_adults=1&no_rooms=1&group_children=0&req_children=0&hpos=22&hapos=22&sr_order=popularity&srpvid=055b6563793c010b&srepoch=1712240831&all_sr_blocks=897752204_360435216_1_42_0&highlighted_blocks=897752204_360435216_1_42_0&matching_block_id=897752204_360435216_1_42_0&sr_pri_blocks=897752204_360435216_1_42_0__160000&dcs_click=1&from=searchresults#hotelTmpl\n",
      "Getting Text Dump from -- https://www.booking.com/hotel/in/chirag-homestay.html?label=bc29a95ef28e11ee8e8d715acd892bb1&sid=f7dfbf4df493fe46ecc5e846650e34cc&aid=2167732&ucfs=1&arphpl=1&checkin=2024-04-04&checkout=2024-04-05&dest_id=900056686&dest_type=city&group_adults=1&req_adults=1&no_rooms=1&group_children=0&req_children=0&hpos=16&hapos=41&sr_order=popularity&srpvid=055b6563793c010b&srepoch=1712240812&all_sr_blocks=1144998201_387339243_1_0_0&highlighted_blocks=1144998201_387339243_1_0_0&matching_block_id=1144998201_387339243_1_0_0&sr_pri_blocks=1144998201_387339243_1_0_0__160000&dcs_click=1&from=searchresults#hotelTmpl\n",
      "Getting Text Dump from -- https://www.booking.com/hotel/in/red-house-cafe-amp-inn-jibhi.html?label=bc29a95ef28e11ee8e8d715acd892bb1&sid=f7dfbf4df493fe46ecc5e846650e34cc&aid=2167732&ucfs=1&arphpl=1&checkin=2024-04-04&checkout=2024-04-05&dest_id=900056686&dest_type=city&group_adults=1&req_adults=1&no_rooms=1&group_children=0&req_children=0&hpos=20&hapos=20&sr_order=popularity&srpvid=055b6563793c010b&srepoch=1712240831&all_sr_blocks=1139442201_386827358_1_42_0&highlighted_blocks=1139442201_386827358_1_42_0&matching_block_id=1139442201_386827358_1_42_0&sr_pri_blocks=1139442201_386827358_1_42_0__153520&dcs_click=1&from=searchresults#hotelTmpl\n",
      "Getting Text Dump from -- https://www.booking.com/hotel/in/orange-sky-homestay.html?label=bc29a95ef28e11ee8e8d715acd892bb1&sid=f7dfbf4df493fe46ecc5e846650e34cc&aid=2167732&ucfs=1&arphpl=1&checkin=2024-04-04&checkout=2024-04-05&dest_id=900056686&dest_type=city&group_adults=1&req_adults=1&no_rooms=1&group_children=0&req_children=0&hpos=14&hapos=14&sr_order=popularity&srpvid=055b6563793c010b&srepoch=1712240831&all_sr_blocks=780642103_336482431_0_42_0&highlighted_blocks=780642103_336482431_0_42_0&matching_block_id=780642103_336482431_0_42_0&sr_pri_blocks=780642103_336482431_0_42_0__135000&from_sustainable_property_sr=1&dcs_click=1&from=searchresults#hotelTmpl\n",
      "Getting Text Dump from -- https://www.booking.com/hotel/in/peekaboo.html?label=bc29a95ef28e11ee8e8d715acd892bb1&sid=f7dfbf4df493fe46ecc5e846650e34cc&aid=2167732&ucfs=1&arphpl=1&checkin=2024-04-04&checkout=2024-04-05&dest_id=900056686&dest_type=city&group_adults=1&req_adults=1&no_rooms=1&group_children=0&req_children=0&hpos=10&hapos=10&sr_order=popularity&srpvid=055b6563793c010b&srepoch=1712240831&all_sr_blocks=708653502_295699896_1_42_0&highlighted_blocks=708653502_295699896_1_42_0&matching_block_id=708653502_295699896_1_42_0&sr_pri_blocks=708653502_295699896_1_42_0__134910&from_sustainable_property_sr=1&dcs_click=1&from=searchresults#hotelTmpl\n",
      "Getting Text Dump from -- https://www.booking.com/hotel/in/pineroots-homestay-amp-cafe.html?label=bc29a95ef28e11ee8e8d715acd892bb1&sid=f7dfbf4df493fe46ecc5e846650e34cc&aid=2167732&ucfs=1&arphpl=1&checkin=2024-04-04&checkout=2024-04-05&dest_id=900056686&dest_type=city&group_adults=1&req_adults=1&no_rooms=1&group_children=0&req_children=0&hpos=24&hapos=24&sr_order=popularity&srpvid=055b6563793c010b&srepoch=1712240831&all_sr_blocks=1158639601_388600004_1_2_0&highlighted_blocks=1158639601_388600004_1_2_0&matching_block_id=1158639601_388600004_1_2_0&sr_pri_blocks=1158639601_388600004_1_2_0__132000&dcs_click=1&from=searchresults#hotelTmpl\n",
      "Getting Text Dump from -- https://www.booking.com/hotel/in/sojhaholidayinn.html?label=bc29a95ef28e11ee8e8d715acd892bb1&sid=e24ce1e10494bbdad81eea9e540790e5&aid=2167732&ucfs=1&arphpl=1&checkin=2024-04-04&checkout=2024-04-05&group_adults=1&req_adults=1&no_rooms=1&group_children=0&req_children=0&hpos=5&hapos=5&sr_order=popularity&srpvid=0a346b22766c00ed&srepoch=1712243656&all_sr_blocks=1159411502_388658364_2_42_0&highlighted_blocks=1159411502_388658364_2_42_0&matching_block_id=1159411502_388658364_2_42_0&sr_pri_blocks=1159411502_388658364_2_42_0__130000&from=searchresults#hotelTmpl\n",
      "Getting Text Dump from -- https://www.booking.com/hotel/in/satyam-homes.html?label=bc29a95ef28e11ee8e8d715acd892bb1&sid=e24ce1e10494bbdad81eea9e540790e5&aid=2167732&ucfs=1&arphpl=1&checkin=2024-04-04&checkout=2024-04-05&group_adults=1&req_adults=1&no_rooms=1&group_children=0&req_children=0&hpos=1&hapos=1&sr_order=popularity&srpvid=0a346b22766c00ed&srepoch=1712243656&all_sr_blocks=838529603_350298861_2_0_0&highlighted_blocks=838529603_350298861_2_0_0&matching_block_id=838529603_350298861_2_0_0&sr_pri_blocks=838529603_350298861_2_0_0__126000&from_sustainable_property_sr=1&from=searchresults#hotelTmpl\n",
      "Getting Text Dump from -- https://www.booking.com/hotel/in/lets-take-it-easy-lte.html?label=bc29a95ef28e11ee8e8d715acd892bb1&sid=f7dfbf4df493fe46ecc5e846650e34cc&aid=2167732&ucfs=1&arphpl=1&checkin=2024-04-04&checkout=2024-04-05&dest_id=900056686&dest_type=city&group_adults=1&req_adults=1&no_rooms=1&group_children=0&req_children=0&hpos=11&hapos=11&sr_order=popularity&srpvid=055b6563793c010b&srepoch=1712240831&all_sr_blocks=931847603_365255398_1_42_0&highlighted_blocks=931847603_365255398_1_42_0&matching_block_id=931847603_365255398_1_42_0&sr_pri_blocks=931847603_365255398_1_42_0__117000&from_sustainable_property_sr=1&dcs_click=1&from=searchresults#hotelTmpl\n",
      "Getting Text Dump from -- https://www.booking.com/hotel/in/above-the-river-behind-the-forrest.html?label=bc29a95ef28e11ee8e8d715acd892bb1&sid=f7dfbf4df493fe46ecc5e846650e34cc&aid=2167732&ucfs=1&arphpl=1&checkin=2024-04-04&checkout=2024-04-05&dest_id=900056686&dest_type=city&group_adults=1&req_adults=1&no_rooms=1&group_children=0&req_children=0&hpos=21&hapos=21&sr_order=popularity&srpvid=055b6563793c010b&srepoch=1712240831&all_sr_blocks=1113641901_384289249_1_1_0&highlighted_blocks=1113641901_384289249_1_1_0&matching_block_id=1113641901_384289249_1_1_0&sr_pri_blocks=1113641901_384289249_1_1_0__112590&dcs_click=1&from=searchresults#hotelTmpl\n",
      "Getting Text Dump from -- https://www.booking.com/hotel/in/salida-homes-jibhi.html?label=bc29a95ef28e11ee8e8d715acd892bb1&sid=f7dfbf4df493fe46ecc5e846650e34cc&aid=2167732&ucfs=1&arphpl=1&checkin=2024-04-04&checkout=2024-04-05&dest_id=900056686&dest_type=city&group_adults=1&req_adults=1&no_rooms=1&group_children=0&req_children=0&hpos=12&hapos=12&sr_order=popularity&srpvid=055b6563793c010b&srepoch=1712240831&all_sr_blocks=1163396505_389027716_1_42_0&highlighted_blocks=1163396505_389027716_1_42_0&matching_block_id=1163396505_389027716_1_42_0&sr_pri_blocks=1163396505_389027716_1_42_0__100000&dcs_click=1&from=searchresults#hotelTmpl\n",
      "Getting Text Dump from -- https://www.booking.com/hotel/in/reverberate-cafe-amp-cottages-negis-place-jibhi.html?label=bc29a95ef28e11ee8e8d715acd892bb1&sid=f7dfbf4df493fe46ecc5e846650e34cc&aid=2167732&ucfs=1&arphpl=1&checkin=2024-04-04&checkout=2024-04-05&dest_id=900056686&dest_type=city&group_adults=1&req_adults=1&no_rooms=1&group_children=0&req_children=0&hpos=6&hapos=6&sr_order=popularity&srpvid=055b6563793c010b&srepoch=1712240831&all_sr_blocks=794367103_339485736_1_0_0&highlighted_blocks=794367103_339485736_1_0_0&matching_block_id=794367103_339485736_1_0_0&sr_pri_blocks=794367103_339485736_1_0_0__88400&dcs_click=1&from=searchresults#hotelTmpl\n",
      "Getting Text Dump from -- https://www.booking.com/hotel/in/the-woodpecker-inn-jibhi.html?label=bc29a95ef28e11ee8e8d715acd892bb1&sid=f7dfbf4df493fe46ecc5e846650e34cc&aid=2167732&ucfs=1&arphpl=1&checkin=2024-04-04&checkout=2024-04-05&dest_id=900056686&dest_type=city&group_adults=1&req_adults=1&no_rooms=1&group_children=0&req_children=0&hpos=1&hapos=1&sr_order=popularity&srpvid=055b6563793c010b&srepoch=1712240831&all_sr_blocks=1134402104_386106310_1_2_0&highlighted_blocks=1134402104_386106310_1_2_0&matching_block_id=1134402104_386106310_1_2_0&sr_pri_blocks=1134402104_386106310_1_2_0__54900&from_sustainable_property_sr=1&dcs_click=1&from=searchresults#hotelTmpl\n",
      "Getting Text Dump from -- https://www.booking.com/hotel/in/yolo-hostel-jibhi.html?label=bc29a95ef28e11ee8e8d715acd892bb1&sid=f7dfbf4df493fe46ecc5e846650e34cc&aid=2167732&ucfs=1&arphpl=1&checkin=2024-04-04&checkout=2024-04-05&dest_id=900056686&dest_type=city&group_adults=1&req_adults=1&no_rooms=1&group_children=0&req_children=0&hpos=9&hapos=9&sr_order=popularity&srpvid=055b6563793c010b&srepoch=1712240831&all_sr_blocks=825095501_389759492_1_42_0&highlighted_blocks=825095501_389759492_1_42_0&matching_block_id=825095501_389759492_1_42_0&sr_pri_blocks=825095501_389759492_1_42_0__49900&from_sustainable_property_sr=1&dcs_click=1&from=searchresults#hotelTmpl\n",
      "Getting Text Dump from -- https://www.booking.com/hotel/in/the-hosteller-jibhi.html?label=bc29a95ef28e11ee8e8d715acd892bb1&sid=f7dfbf4df493fe46ecc5e846650e34cc&aid=2167732&ucfs=1&arphpl=1&checkin=2024-04-04&checkout=2024-04-05&dest_id=900056686&dest_type=city&group_adults=1&req_adults=1&no_rooms=1&group_children=0&req_children=0&hpos=3&hapos=3&sr_order=popularity&srpvid=055b6563793c010b&srepoch=1712240831&all_sr_blocks=632165004_386134647_0_0_0&highlighted_blocks=632165004_386134647_0_0_0&matching_block_id=632165004_386134647_0_0_0&sr_pri_blocks=632165004_386134647_0_0_0__43920&from_sustainable_property_sr=1&dcs_click=1&from=searchresults#hotelTmpl\n",
      "Getting Text Dump from -- https://www.booking.com/hotel/in/madpackers-jibhi-jibhi.html?label=bc29a95ef28e11ee8e8d715acd892bb1&sid=f7dfbf4df493fe46ecc5e846650e34cc&aid=2167732&ucfs=1&arphpl=1&checkin=2024-04-04&checkout=2024-04-05&dest_id=900056686&dest_type=city&group_adults=1&req_adults=1&no_rooms=1&group_children=0&req_children=0&hpos=2&hapos=2&sr_order=popularity&srpvid=055b6563793c010b&srepoch=1712240831&all_sr_blocks=776664905_350271116_1_0_0&highlighted_blocks=776664905_350271116_1_0_0&matching_block_id=776664905_350271116_1_0_0&sr_pri_blocks=776664905_350271116_1_0_0__43200&from_sustainable_property_sr=1&dcs_click=1&from=searchresults#hotelTmpl\n"
     ]
    }
   ],
   "source": [
    "hrefs = competition['Hotel-link'].unique()\n",
    "\n",
    "hotel_documents = {}\n",
    "\n",
    "import requests\n",
    "import time\n",
    "from bs4 import BeautifulSoup\n",
    "\n",
    "for i, href in enumerate(hrefs):\n",
    "    print(f\"Getting Text Dump from -- {href}\")\n",
    "    response = requests.get(href)\n",
    "    soup = BeautifulSoup(response.text)\n",
    "    hotel_documents[href] = clean_text(soup.text)\n",
    "    time.sleep(5)\n",
    "\n",
    "    "
   ]
  },
  {
   "cell_type": "code",
   "execution_count": 58,
   "id": "2350fd6c-cbf5-4bc8-8eaf-cb51147391ab",
   "metadata": {
    "scrolled": true
   },
   "outputs": [
    {
     "data": {
      "text/plain": [
       "dict_keys(['https://www.booking.com/hotel/in/moksha-luxurious-jibhi.html?label=bc29a95ef28e11ee8e8d715acd892bb1&sid=f7dfbf4df493fe46ecc5e846650e34cc&aid=2167732&ucfs=1&arphpl=1&checkin=2024-04-04&checkout=2024-04-05&dest_id=900056686&dest_type=city&group_adults=1&req_adults=1&no_rooms=1&group_children=0&req_children=0&hpos=14&hapos=64&sr_order=popularity&srpvid=055b6563793c010b&srepoch=1712240815&all_sr_blocks=1160443701_388743388_1_1_0&highlighted_blocks=1160443701_388743388_1_1_0&matching_block_id=1160443701_388743388_1_1_0&sr_pri_blocks=1160443701_388743388_1_1_0__1080000&dcs_click=1&from=searchresults#hotelTmpl', 'https://www.booking.com/hotel/in/natur3rich.html?label=bc29a95ef28e11ee8e8d715acd892bb1&sid=f7dfbf4df493fe46ecc5e846650e34cc&aid=2167732&ucfs=1&arphpl=1&checkin=2024-04-04&checkout=2024-04-05&dest_id=900056686&dest_type=city&group_adults=1&req_adults=1&no_rooms=1&group_children=0&req_children=0&hpos=7&hapos=57&sr_order=popularity&srpvid=055b6563793c010b&srepoch=1712240815&all_sr_blocks=1133772201_386030546_0_1_0&highlighted_blocks=1133772201_386030546_0_1_0&matching_block_id=1133772201_386030546_0_1_0&sr_pri_blocks=1133772201_386030546_0_1_0__850000&dcs_click=1&from=searchresults#hotelTmpl', 'https://www.booking.com/hotel/in/stargazing-cottages.html?label=bc29a95ef28e11ee8e8d715acd892bb1&sid=f7dfbf4df493fe46ecc5e846650e34cc&aid=2167732&ucfs=1&arphpl=1&checkin=2024-04-04&checkout=2024-04-05&dest_id=900056686&dest_type=city&group_adults=1&req_adults=1&no_rooms=1&group_children=0&req_children=0&hpos=8&hapos=8&sr_order=popularity&srpvid=055b6563793c010b&srepoch=1712240831&all_sr_blocks=713448201_298326888_0_1_0&highlighted_blocks=713448201_298326888_0_1_0&matching_block_id=713448201_298326888_0_1_0&sr_pri_blocks=713448201_298326888_0_1_0__840000&dcs_click=1&from=searchresults#hotelTmpl', 'https://www.booking.com/hotel/in/dreamscape-treehouse-amp-cottages.html?label=bc29a95ef28e11ee8e8d715acd892bb1&sid=f7dfbf4df493fe46ecc5e846650e34cc&aid=2167732&ucfs=1&arphpl=1&checkin=2024-04-04&checkout=2024-04-05&dest_id=900056686&dest_type=city&group_adults=1&req_adults=1&no_rooms=1&group_children=0&req_children=0&hpos=6&hapos=56&sr_order=popularity&srpvid=055b6563793c010b&srepoch=1712240815&all_sr_blocks=1119778901_384792142_1_2_0&highlighted_blocks=1119778901_384792142_1_2_0&matching_block_id=1119778901_384792142_1_2_0&sr_pri_blocks=1119778901_384792142_1_2_0__765000&dcs_click=1&from=searchresults#hotelTmpl', 'https://www.booking.com/hotel/in/cloudwalk-treehouse.html?label=bc29a95ef28e11ee8e8d715acd892bb1&sid=f7dfbf4df493fe46ecc5e846650e34cc&aid=2167732&ucfs=1&arphpl=1&checkin=2024-04-04&checkout=2024-04-05&dest_id=900056686&dest_type=city&group_adults=1&req_adults=1&no_rooms=1&group_children=0&req_children=0&hpos=18&hapos=43&sr_order=popularity&srpvid=055b6563793c010b&srepoch=1712240812&all_sr_blocks=984621701_370871919_1_1_0&highlighted_blocks=984621701_370871919_1_1_0&matching_block_id=984621701_370871919_1_1_0&sr_pri_blocks=984621701_370871919_1_1_0__729000&dcs_click=1&from=searchresults#hotelTmpl', 'https://www.booking.com/hotel/in/himalayan-chalets-jibhi.html?label=bc29a95ef28e11ee8e8d715acd892bb1&sid=f7dfbf4df493fe46ecc5e846650e34cc&aid=2167732&ucfs=1&arphpl=1&checkin=2024-04-04&checkout=2024-04-05&dest_id=900056686&dest_type=city&group_adults=1&req_adults=1&no_rooms=1&group_children=0&req_children=0&hpos=12&hapos=37&sr_order=popularity&srpvid=055b6563793c010b&srepoch=1712240812&all_sr_blocks=1138780101_386590880_2_1_0&highlighted_blocks=1138780101_386590880_2_1_0&matching_block_id=1138780101_386590880_2_1_0&sr_pri_blocks=1138780101_386590880_2_1_0__700000&dcs_click=1&from=searchresults#hotelTmpl', 'https://www.booking.com/hotel/in/enchanted-tales-tandi-tandi.html?label=bc29a95ef28e11ee8e8d715acd892bb1&sid=f7dfbf4df493fe46ecc5e846650e34cc&aid=2167732&ucfs=1&arphpl=1&checkin=2024-04-04&checkout=2024-04-05&dest_id=900056686&dest_type=city&group_adults=1&req_adults=1&no_rooms=1&group_children=0&req_children=0&hpos=23&hapos=48&sr_order=popularity&srpvid=055b6563793c010b&srepoch=1712240812&all_sr_blocks=1174732702_390198569_2_1_0&highlighted_blocks=1174732702_390198569_2_1_0&matching_block_id=1174732702_390198569_2_1_0&sr_pri_blocks=1174732702_390198569_2_1_0__700000&dcs_click=1&from=searchresults#hotelTmpl', 'https://www.booking.com/hotel/in/the-chapters-cottage-tandi-jibhi.html?label=bc29a95ef28e11ee8e8d715acd892bb1&sid=f7dfbf4df493fe46ecc5e846650e34cc&aid=2167732&ucfs=1&arphpl=1&checkin=2024-04-04&checkout=2024-04-05&dest_id=900056686&dest_type=city&group_adults=1&req_adults=1&no_rooms=1&group_children=0&req_children=0&hpos=16&hapos=66&sr_order=popularity&srpvid=055b6563793c010b&srepoch=1712240815&all_sr_blocks=1134212701_388013014_4_42_0&highlighted_blocks=1134212701_388013014_4_42_0&matching_block_id=1134212701_388013014_4_42_0&sr_pri_blocks=1134212701_388013014_4_42_0__699900&dcs_click=1&from=searchresults#hotelTmpl', 'https://www.booking.com/hotel/in/dreamland-home-stay-jalori-pass.html?label=bc29a95ef28e11ee8e8d715acd892bb1&sid=e24ce1e10494bbdad81eea9e540790e5&aid=2167732&ucfs=1&arphpl=1&checkin=2024-04-04&checkout=2024-04-05&group_adults=1&req_adults=1&no_rooms=1&group_children=0&req_children=0&hpos=3&hapos=3&sr_order=popularity&srpvid=0a346b22766c00ed&srepoch=1712243656&all_sr_blocks=498635201_179687932_0_0_0&highlighted_blocks=498635201_179687932_0_0_0&matching_block_id=498635201_179687932_0_0_0&sr_pri_blocks=498635201_179687932_0_0_0__585600&from=searchresults#hotelTmpl', 'https://www.booking.com/hotel/in/himalayan-chalet-jibhi.html?label=bc29a95ef28e11ee8e8d715acd892bb1&sid=f7dfbf4df493fe46ecc5e846650e34cc&aid=2167732&ucfs=1&arphpl=1&checkin=2024-04-04&checkout=2024-04-05&dest_id=900056686&dest_type=city&group_adults=1&req_adults=1&no_rooms=1&group_children=0&req_children=0&hpos=2&hapos=52&sr_order=popularity&srpvid=055b6563793c010b&srepoch=1712240815&all_sr_blocks=1137787801_386501665_1_2_0&highlighted_blocks=1137787801_386501665_1_2_0&matching_block_id=1137787801_386501665_1_2_0&sr_pri_blocks=1137787801_386501665_1_2_0__585000&dcs_click=1&from=searchresults#hotelTmpl', 'https://www.booking.com/hotel/in/the-blue-stream-cottage.html?label=bc29a95ef28e11ee8e8d715acd892bb1&sid=f7dfbf4df493fe46ecc5e846650e34cc&aid=2167732&ucfs=1&arphpl=1&checkin=2024-04-04&checkout=2024-04-05&dest_id=900056686&dest_type=city&group_adults=1&req_adults=1&no_rooms=1&group_children=0&req_children=0&hpos=6&hapos=31&sr_order=popularity&srpvid=055b6563793c010b&srepoch=1712240812&all_sr_blocks=633125301_335433369_0_0_0&highlighted_blocks=633125301_335433369_0_0_0&matching_block_id=633125301_335433369_0_0_0&sr_pri_blocks=633125301_335433369_0_0_0__570000&dcs_click=1&from=searchresults#hotelTmpl', 'https://www.booking.com/hotel/in/rustic-treehouse-in-da-mountains.html?label=bc29a95ef28e11ee8e8d715acd892bb1&sid=f7dfbf4df493fe46ecc5e846650e34cc&aid=2167732&ucfs=1&arphpl=1&checkin=2024-04-04&checkout=2024-04-05&dest_id=900056686&dest_type=city&group_adults=1&req_adults=1&no_rooms=1&group_children=0&req_children=0&hpos=11&hapos=61&sr_order=popularity&srpvid=055b6563793c010b&srepoch=1712240815&all_sr_blocks=1140471601_386912202_1_2_0&highlighted_blocks=1140471601_386912202_1_2_0&matching_block_id=1140471601_386912202_1_2_0&sr_pri_blocks=1140471601_386912202_1_2_0__497728&dcs_click=1&from=searchresults#hotelTmpl', 'https://www.booking.com/hotel/in/sunlight-tree-house-and-cottage.html?label=bc29a95ef28e11ee8e8d715acd892bb1&sid=f7dfbf4df493fe46ecc5e846650e34cc&aid=2167732&ucfs=1&arphpl=1&checkin=2024-04-04&checkout=2024-04-05&dest_id=900056686&dest_type=city&group_adults=1&req_adults=1&no_rooms=1&group_children=0&req_children=0&hpos=11&hapos=36&sr_order=popularity&srpvid=055b6563793c010b&srepoch=1712240812&all_sr_blocks=1181395001_390578045_1_42_0&highlighted_blocks=1181395001_390578045_1_42_0&matching_block_id=1181395001_390578045_1_42_0&sr_pri_blocks=1181395001_390578045_1_42_0__455000&dcs_click=1&from=searchresults#hotelTmpl', 'https://www.booking.com/hotel/in/nebula-nook-treehouse.html?label=bc29a95ef28e11ee8e8d715acd892bb1&sid=f7dfbf4df493fe46ecc5e846650e34cc&aid=2167732&ucfs=1&arphpl=1&checkin=2024-04-04&checkout=2024-04-05&dest_id=900056686&dest_type=city&group_adults=1&req_adults=1&no_rooms=1&group_children=0&req_children=0&hpos=5&hapos=55&sr_order=popularity&srpvid=055b6563793c010b&srepoch=1712240815&all_sr_blocks=1099135901_382777187_2_1_0&highlighted_blocks=1099135901_382777187_2_1_0&matching_block_id=1099135901_382777187_2_1_0&sr_pri_blocks=1099135901_382777187_2_1_0__405000&from_sustainable_property_sr=1&dcs_click=1&from=searchresults#hotelTmpl', 'https://www.booking.com/hotel/in/the-little-nest-jibhi.html?label=bc29a95ef28e11ee8e8d715acd892bb1&sid=f7dfbf4df493fe46ecc5e846650e34cc&aid=2167732&ucfs=1&arphpl=1&checkin=2024-04-04&checkout=2024-04-05&dest_id=900056686&dest_type=city&group_adults=1&req_adults=1&no_rooms=1&group_children=0&req_children=0&hpos=4&hapos=54&sr_order=popularity&srpvid=055b6563793c010b&srepoch=1712240815&all_sr_blocks=1144457501_387287657_1_1_0&highlighted_blocks=1144457501_387287657_1_1_0&matching_block_id=1144457501_387287657_1_1_0&sr_pri_blocks=1144457501_387287657_1_1_0__394400&dcs_click=1&from=searchresults#hotelTmpl', 'https://www.booking.com/hotel/in/white-hill-jibhi-by-peppy-nomads.html?label=bc29a95ef28e11ee8e8d715acd892bb1&sid=f7dfbf4df493fe46ecc5e846650e34cc&aid=2167732&ucfs=1&arphpl=1&checkin=2024-04-04&checkout=2024-04-05&dest_id=900056686&dest_type=city&group_adults=1&req_adults=1&no_rooms=1&group_children=0&req_children=0&hpos=19&hapos=19&sr_order=popularity&srpvid=055b6563793c010b&srepoch=1712240831&all_sr_blocks=802515509_374430326_1_0_0&highlighted_blocks=802515509_374430326_1_0_0&matching_block_id=802515509_374430326_1_0_0&sr_pri_blocks=802515509_374430326_1_0_0__388800&from_sustainable_property_sr=1&dcs_click=1&from=searchresults#hotelTmpl', 'https://www.booking.com/hotel/in/the-acoustic-cabins-riverside-main-jibhi.html?label=bc29a95ef28e11ee8e8d715acd892bb1&sid=f7dfbf4df493fe46ecc5e846650e34cc&aid=2167732&ucfs=1&arphpl=1&checkin=2024-04-04&checkout=2024-04-05&dest_id=900056686&dest_type=city&group_adults=1&req_adults=1&no_rooms=1&group_children=0&req_children=0&hpos=9&hapos=59&sr_order=popularity&srpvid=055b6563793c010b&srepoch=1712240815&all_sr_blocks=1038421901_376340202_1_0_0&highlighted_blocks=1038421901_376340202_1_0_0&matching_block_id=1038421901_376340202_1_0_0&sr_pri_blocks=1038421901_376340202_1_0_0__359910&dcs_click=1&from=searchresults#hotelTmpl', 'https://www.booking.com/hotel/in/livingstone-cottage-in-jibhi.html?label=bc29a95ef28e11ee8e8d715acd892bb1&sid=f7dfbf4df493fe46ecc5e846650e34cc&aid=2167732&ucfs=1&arphpl=1&checkin=2024-04-04&checkout=2024-04-05&dest_id=900056686&dest_type=city&group_adults=1&req_adults=1&no_rooms=1&group_children=0&req_children=0&hpos=10&hapos=60&sr_order=popularity&srpvid=055b6563793c010b&srepoch=1712240815&all_sr_blocks=737667302_334775602_2_0_0&highlighted_blocks=737667302_334775602_2_0_0&matching_block_id=737667302_334775602_2_0_0&sr_pri_blocks=737667302_334775602_2_0_0__357200&dcs_click=1&from=searchresults#hotelTmpl', 'https://www.booking.com/hotel/in/divine-treehouse-jibhi.html?label=bc29a95ef28e11ee8e8d715acd892bb1&sid=f7dfbf4df493fe46ecc5e846650e34cc&aid=2167732&ucfs=1&arphpl=1&checkin=2024-04-04&checkout=2024-04-05&dest_id=900056686&dest_type=city&group_adults=1&req_adults=1&no_rooms=1&group_children=0&req_children=0&hpos=13&hapos=38&sr_order=popularity&srpvid=055b6563793c010b&srepoch=1712240812&all_sr_blocks=1181300801_390567403_1_2_0&highlighted_blocks=1181300801_390567403_1_2_0&matching_block_id=1181300801_390567403_1_2_0&sr_pri_blocks=1181300801_390567403_1_2_0__352000&dcs_click=1&from=searchresults#hotelTmpl', 'https://www.booking.com/hotel/in/swarg-homestay.html?label=bc29a95ef28e11ee8e8d715acd892bb1&sid=f7dfbf4df493fe46ecc5e846650e34cc&aid=2167732&ucfs=1&arphpl=1&checkin=2024-04-04&checkout=2024-04-05&dest_id=900056686&dest_type=city&group_adults=1&req_adults=1&no_rooms=1&group_children=0&req_children=0&hpos=8&hapos=58&sr_order=popularity&srpvid=055b6563793c010b&srepoch=1712240815&all_sr_blocks=921097901_379169344_2_2_0&highlighted_blocks=921097901_379169344_2_2_0&matching_block_id=921097901_379169344_2_2_0&sr_pri_blocks=921097901_379169344_2_2_0__350625&dcs_click=1&from=searchresults#hotelTmpl', 'https://www.booking.com/hotel/in/the-casa-alpino-cottages.html?label=bc29a95ef28e11ee8e8d715acd892bb1&sid=f7dfbf4df493fe46ecc5e846650e34cc&aid=2167732&ucfs=1&arphpl=1&checkin=2024-04-04&checkout=2024-04-05&dest_id=900056686&dest_type=city&group_adults=1&req_adults=1&no_rooms=1&group_children=0&req_children=0&hpos=8&hapos=33&sr_order=popularity&srpvid=055b6563793c010b&srepoch=1712240812&all_sr_blocks=1102927101_383059879_1_2_0&highlighted_blocks=1102927101_383059879_1_2_0&matching_block_id=1102927101_383059879_1_2_0&sr_pri_blocks=1102927101_383059879_1_2_0__342000&from_sustainable_property_sr=1&dcs_click=1&from=searchresults#hotelTmpl', 'https://www.booking.com/hotel/in/peppy-nomads.html?label=bc29a95ef28e11ee8e8d715acd892bb1&sid=f7dfbf4df493fe46ecc5e846650e34cc&aid=2167732&ucfs=1&arphpl=1&checkin=2024-04-04&checkout=2024-04-05&dest_id=900056686&dest_type=city&group_adults=1&req_adults=1&no_rooms=1&group_children=0&req_children=0&hpos=3&hapos=28&sr_order=popularity&srpvid=055b6563793c010b&srepoch=1712240812&all_sr_blocks=530601206_374430337_1_0_0&highlighted_blocks=530601206_374430337_1_0_0&matching_block_id=530601206_374430337_1_0_0&sr_pri_blocks=530601206_374430337_1_0_0__315000&dcs_click=1&from=searchresults#hotelTmpl', 'https://www.booking.com/hotel/in/the-woods-cottage-jibhi.html?label=bc29a95ef28e11ee8e8d715acd892bb1&sid=f7dfbf4df493fe46ecc5e846650e34cc&aid=2167732&ucfs=1&arphpl=1&checkin=2024-04-04&checkout=2024-04-05&dest_id=900056686&dest_type=city&group_adults=1&req_adults=1&no_rooms=1&group_children=0&req_children=0&hpos=15&hapos=65&sr_order=popularity&srpvid=055b6563793c010b&srepoch=1712240815&all_sr_blocks=1135647401_386206547_1_2_0&highlighted_blocks=1135647401_386206547_1_2_0&matching_block_id=1135647401_386206547_1_2_0&sr_pri_blocks=1135647401_386206547_1_2_0__307200&dcs_click=1&from=searchresults#hotelTmpl', 'https://www.booking.com/hotel/in/sunshine-cafe-amp-cottage.html?label=bc29a95ef28e11ee8e8d715acd892bb1&sid=e24ce1e10494bbdad81eea9e540790e5&aid=2167732&ucfs=1&arphpl=1&checkin=2024-04-04&checkout=2024-04-05&group_adults=1&req_adults=1&no_rooms=1&group_children=0&req_children=0&hpos=2&hapos=2&sr_order=popularity&srpvid=0a346b22766c00ed&srepoch=1712243656&all_sr_blocks=964256601_368970835_2_1_0&highlighted_blocks=964256601_368970835_2_1_0&matching_block_id=964256601_368970835_2_1_0&sr_pri_blocks=964256601_368970835_2_1_0__285086&from=searchresults#hotelTmpl', 'https://www.booking.com/hotel/in/the-grear-escape-a-jibhi-paradise.html?label=bc29a95ef28e11ee8e8d715acd892bb1&sid=f7dfbf4df493fe46ecc5e846650e34cc&aid=2167732&ucfs=1&arphpl=1&checkin=2024-04-04&checkout=2024-04-05&dest_id=900056686&dest_type=city&group_adults=1&req_adults=1&no_rooms=1&group_children=0&req_children=0&hpos=21&hapos=46&sr_order=popularity&srpvid=055b6563793c010b&srepoch=1712240812&all_sr_blocks=1109860501_383724357_1_42_0&highlighted_blocks=1109860501_383724357_1_42_0&matching_block_id=1109860501_383724357_1_42_0&sr_pri_blocks=1109860501_383724357_1_42_0__280000&dcs_click=1&from=searchresults#hotelTmpl', 'https://www.booking.com/hotel/in/lovely-aframe-i-riversidei-250m-steep-treki.html?label=bc29a95ef28e11ee8e8d715acd892bb1&sid=f7dfbf4df493fe46ecc5e846650e34cc&aid=2167732&ucfs=1&arphpl=1&checkin=2024-04-04&checkout=2024-04-05&dest_id=900056686&dest_type=city&group_adults=1&req_adults=1&no_rooms=1&group_children=0&req_children=0&hpos=14&hapos=39&sr_order=popularity&srpvid=055b6563793c010b&srepoch=1712240812&all_sr_blocks=1104111801_383231175_2_0_0&highlighted_blocks=1104111801_383231175_2_0_0&matching_block_id=1104111801_383231175_2_0_0&sr_pri_blocks=1104111801_383231175_2_0_0__280000&from_sustainable_property_sr=1&dcs_click=1&from=searchresults#hotelTmpl', 'https://www.booking.com/hotel/in/mystic-vibes.html?label=bc29a95ef28e11ee8e8d715acd892bb1&sid=f7dfbf4df493fe46ecc5e846650e34cc&aid=2167732&ucfs=1&arphpl=1&checkin=2024-04-04&checkout=2024-04-05&dest_id=900056686&dest_type=city&group_adults=1&req_adults=1&no_rooms=1&group_children=0&req_children=0&hpos=24&hapos=49&sr_order=popularity&srpvid=055b6563793c010b&srepoch=1712240812&all_sr_blocks=842394701_351002343_0_42_0&highlighted_blocks=842394701_351002343_0_42_0&matching_block_id=842394701_351002343_0_42_0&sr_pri_blocks=842394701_351002343_0_42_0__279900&from_sustainable_property_sr=1&dcs_click=1&from=searchresults#hotelTmpl', 'https://www.booking.com/hotel/in/marigold-paradise.html?label=bc29a95ef28e11ee8e8d715acd892bb1&sid=f7dfbf4df493fe46ecc5e846650e34cc&aid=2167732&ucfs=1&arphpl=1&checkin=2024-04-04&checkout=2024-04-05&dest_id=900056686&dest_type=city&group_adults=1&req_adults=1&no_rooms=1&group_children=0&req_children=0&hpos=15&hapos=40&sr_order=popularity&srpvid=055b6563793c010b&srepoch=1712240812&all_sr_blocks=998430401_372685009_1_0_0&highlighted_blocks=998430401_372685009_1_0_0&matching_block_id=998430401_372685009_1_0_0&sr_pri_blocks=998430401_372685009_1_0_0__270810&dcs_click=1&from=searchresults#hotelTmpl', 'https://www.booking.com/hotel/in/himalayan-outskrit-cottages.html?label=bc29a95ef28e11ee8e8d715acd892bb1&sid=f7dfbf4df493fe46ecc5e846650e34cc&aid=2167732&ucfs=1&arphpl=1&checkin=2024-04-04&checkout=2024-04-05&dest_id=900056686&dest_type=city&group_adults=1&req_adults=1&no_rooms=1&group_children=0&req_children=0&hpos=3&hapos=53&sr_order=popularity&srpvid=055b6563793c010b&srepoch=1712240815&all_sr_blocks=1040674201_376511679_1_0_0&highlighted_blocks=1040674201_376511679_1_0_0&matching_block_id=1040674201_376511679_1_0_0&sr_pri_blocks=1040674201_376511679_1_0_0__270000&dcs_click=1&from=searchresults#hotelTmpl', 'https://www.booking.com/hotel/in/basera-cottage-main-jibhi.html?label=bc29a95ef28e11ee8e8d715acd892bb1&sid=f7dfbf4df493fe46ecc5e846650e34cc&aid=2167732&ucfs=1&arphpl=1&checkin=2024-04-04&checkout=2024-04-05&dest_id=900056686&dest_type=city&group_adults=1&req_adults=1&no_rooms=1&group_children=0&req_children=0&hpos=13&hapos=63&sr_order=popularity&srpvid=055b6563793c010b&srepoch=1712240815&all_sr_blocks=1060719201_378382126_1_0_0&highlighted_blocks=1060719201_378382126_1_0_0&matching_block_id=1060719201_378382126_1_0_0&sr_pri_blocks=1060719201_378382126_1_0_0__269910&dcs_click=1&from=searchresults#hotelTmpl', 'https://www.booking.com/hotel/in/the-little-nest-the-dreamy-den.html?label=bc29a95ef28e11ee8e8d715acd892bb1&sid=f7dfbf4df493fe46ecc5e846650e34cc&aid=2167732&ucfs=1&arphpl=1&checkin=2024-04-04&checkout=2024-04-05&dest_id=900056686&dest_type=city&group_adults=1&req_adults=1&no_rooms=1&group_children=0&req_children=0&hpos=7&hapos=32&sr_order=popularity&srpvid=055b6563793c010b&srepoch=1712240812&all_sr_blocks=1144919001_387327962_1_1_0&highlighted_blocks=1144919001_387327962_1_1_0&matching_block_id=1144919001_387327962_1_1_0&sr_pri_blocks=1144919001_387327962_1_1_0__258400&dcs_click=1&from=searchresults#hotelTmpl', 'https://www.booking.com/hotel/in/freebird-nest-2-0.html?label=bc29a95ef28e11ee8e8d715acd892bb1&sid=f7dfbf4df493fe46ecc5e846650e34cc&aid=2167732&ucfs=1&arphpl=1&checkin=2024-04-04&checkout=2024-04-05&dest_id=900056686&dest_type=city&group_adults=1&req_adults=1&no_rooms=1&group_children=0&req_children=0&hpos=5&hapos=5&sr_order=popularity&srpvid=055b6563793c010b&srepoch=1712240831&all_sr_blocks=965537901_369306841_1_42_0&highlighted_blocks=965537901_369306841_1_42_0&matching_block_id=965537901_369306841_1_42_0&sr_pri_blocks=965537901_369306841_1_42_0__255150&dcs_click=1&from=searchresults#hotelTmpl', 'https://www.booking.com/hotel/in/the-pahadi-earthen-home-jibhi.html?label=bc29a95ef28e11ee8e8d715acd892bb1&sid=f7dfbf4df493fe46ecc5e846650e34cc&aid=2167732&ucfs=1&arphpl=1&checkin=2024-04-04&checkout=2024-04-05&dest_id=900056686&dest_type=city&group_adults=1&req_adults=1&no_rooms=1&group_children=0&req_children=0&hpos=25&hapos=50&sr_order=popularity&srpvid=055b6563793c010b&srepoch=1712240812&all_sr_blocks=1152681601_388254000_2_0_0&highlighted_blocks=1152681601_388254000_2_0_0&matching_block_id=1152681601_388254000_2_0_0&sr_pri_blocks=1152681601_388254000_2_0_0__252450&from_sustainable_property_sr=1&dcs_click=1&from=searchresults#hotelTmpl', 'https://www.booking.com/hotel/in/s-star-homestay.html?label=bc29a95ef28e11ee8e8d715acd892bb1&sid=f7dfbf4df493fe46ecc5e846650e34cc&aid=2167732&ucfs=1&arphpl=1&checkin=2024-04-04&checkout=2024-04-05&dest_id=900056686&dest_type=city&group_adults=1&req_adults=1&no_rooms=1&group_children=0&req_children=0&hpos=1&hapos=51&sr_order=popularity&srpvid=055b6563793c010b&srepoch=1712240815&all_sr_blocks=1126396201_385293712_1_1_0&highlighted_blocks=1126396201_385293712_1_1_0&matching_block_id=1126396201_385293712_1_1_0&sr_pri_blocks=1126396201_385293712_1_1_0__252000&dcs_click=1&from=searchresults#hotelTmpl', 'https://www.booking.com/hotel/in/khwabeeda-stays-jibhi-himachal-prad.html?label=bc29a95ef28e11ee8e8d715acd892bb1&sid=f7dfbf4df493fe46ecc5e846650e34cc&aid=2167732&ucfs=1&arphpl=1&checkin=2024-04-04&checkout=2024-04-05&dest_id=900056686&dest_type=city&group_adults=1&req_adults=1&no_rooms=1&group_children=0&req_children=0&hpos=4&hapos=4&sr_order=popularity&srpvid=055b6563793c010b&srepoch=1712240831&all_sr_blocks=830245001_348993731_0_42_0&highlighted_blocks=830245001_348993731_0_42_0&matching_block_id=830245001_348993731_0_42_0&sr_pri_blocks=830245001_348993731_0_42_0__250000&from_sustainable_property_sr=1&dcs_click=1&from=searchresults#hotelTmpl', 'https://www.booking.com/hotel/in/the-misty-wilds-home-hirab-valley.html?label=bc29a95ef28e11ee8e8d715acd892bb1&sid=f7dfbf4df493fe46ecc5e846650e34cc&aid=2167732&ucfs=1&arphpl=1&checkin=2024-04-04&checkout=2024-04-05&dest_id=900056686&dest_type=city&group_adults=1&req_adults=1&no_rooms=1&group_children=0&req_children=0&hpos=15&hapos=15&sr_order=popularity&srpvid=055b6563793c010b&srepoch=1712240831&all_sr_blocks=799314201_372932899_1_41_0&highlighted_blocks=799314201_372932899_1_41_0&matching_block_id=799314201_372932899_1_41_0&sr_pri_blocks=799314201_372932899_1_41_0__247920&from_sustainable_property_sr=1&dcs_click=1&from=searchresults#hotelTmpl', 'https://www.booking.com/hotel/in/dream-wood-cottage-jibhi-biinnii.html?label=bc29a95ef28e11ee8e8d715acd892bb1&sid=f7dfbf4df493fe46ecc5e846650e34cc&aid=2167732&ucfs=1&arphpl=1&checkin=2024-04-04&checkout=2024-04-05&dest_id=900056686&dest_type=city&group_adults=1&req_adults=1&no_rooms=1&group_children=0&req_children=0&hpos=12&hapos=62&sr_order=popularity&srpvid=055b6563793c010b&srepoch=1712240815&all_sr_blocks=1136283701_386257274_1_0_0&highlighted_blocks=1136283701_386257274_1_0_0&matching_block_id=1136283701_386257274_1_0_0&sr_pri_blocks=1136283701_386257274_1_0_0__240000&dcs_click=1&from=searchresults#hotelTmpl', 'https://www.booking.com/hotel/in/hidab-homes.html?label=bc29a95ef28e11ee8e8d715acd892bb1&sid=f7dfbf4df493fe46ecc5e846650e34cc&aid=2167732&ucfs=1&arphpl=1&checkin=2024-04-04&checkout=2024-04-05&dest_id=900056686&dest_type=city&group_adults=1&req_adults=1&no_rooms=1&group_children=0&req_children=0&hpos=9&hapos=34&sr_order=popularity&srpvid=055b6563793c010b&srepoch=1712240812&all_sr_blocks=842920501_390179461_1_41_0&highlighted_blocks=842920501_390179461_1_41_0&matching_block_id=842920501_390179461_1_41_0&sr_pri_blocks=842920501_390179461_1_41_0__230328&from_sustainable_property_sr=1&dcs_click=1&from=searchresults#hotelTmpl', 'https://www.booking.com/hotel/in/kiran-home-stay-kullu.html?label=bc29a95ef28e11ee8e8d715acd892bb1&sid=e24ce1e10494bbdad81eea9e540790e5&aid=2167732&ucfs=1&arphpl=1&checkin=2024-04-04&checkout=2024-04-05&group_adults=1&req_adults=1&no_rooms=1&group_children=0&req_children=0&hpos=6&hapos=6&sr_order=popularity&srpvid=0a346b22766c00ed&srepoch=1712243656&all_sr_blocks=1156994201_388477159_0_1_0&highlighted_blocks=1156994201_388477159_0_1_0&matching_block_id=1156994201_388477159_0_1_0&sr_pri_blocks=1156994201_388477159_0_1_0__225000&from=searchresults#hotelTmpl', 'https://www.booking.com/hotel/in/the-village-view-home-stau.html?label=bc29a95ef28e11ee8e8d715acd892bb1&sid=f7dfbf4df493fe46ecc5e846650e34cc&aid=2167732&ucfs=1&arphpl=1&checkin=2024-04-04&checkout=2024-04-05&dest_id=900056686&dest_type=city&group_adults=1&req_adults=1&no_rooms=1&group_children=0&req_children=0&hpos=5&hapos=30&sr_order=popularity&srpvid=055b6563793c010b&srepoch=1712240812&all_sr_blocks=914345101_390400776_1_1_0&highlighted_blocks=914345101_390400776_1_1_0&matching_block_id=914345101_390400776_1_1_0&sr_pri_blocks=914345101_390400776_1_1_0__223920&from_sustainable_property_sr=1&dcs_click=1&from=searchresults#hotelTmpl', 'https://www.booking.com/hotel/in/rana-swiss-cottages-jibhi.html?label=bc29a95ef28e11ee8e8d715acd892bb1&sid=f7dfbf4df493fe46ecc5e846650e34cc&aid=2167732&ucfs=1&arphpl=1&checkin=2024-04-04&checkout=2024-04-05&dest_id=900056686&dest_type=city&group_adults=1&req_adults=1&no_rooms=1&group_children=0&req_children=0&hpos=17&hapos=42&sr_order=popularity&srpvid=055b6563793c010b&srepoch=1712240812&all_sr_blocks=1077183704_380307224_1_2_0&highlighted_blocks=1077183704_380307224_1_2_0&matching_block_id=1077183704_380307224_1_2_0&sr_pri_blocks=1077183704_380307224_1_2_0__220000&dcs_click=1&from=searchresults#hotelTmpl', 'https://www.booking.com/hotel/in/wildwood-home.html?label=bc29a95ef28e11ee8e8d715acd892bb1&sid=f7dfbf4df493fe46ecc5e846650e34cc&aid=2167732&ucfs=1&arphpl=1&checkin=2024-04-04&checkout=2024-04-05&dest_id=900056686&dest_type=city&group_adults=1&req_adults=1&no_rooms=1&group_children=0&req_children=0&hpos=23&hapos=23&sr_order=popularity&srpvid=055b6563793c010b&srepoch=1712240831&all_sr_blocks=724291905_310125352_2_2_0&highlighted_blocks=724291905_310125352_2_2_0&matching_block_id=724291905_310125352_2_2_0&sr_pri_blocks=724291905_310125352_2_2_0__220000&dcs_click=1&from=searchresults#hotelTmpl', 'https://www.booking.com/hotel/in/2-little-monks-cafe-and-stays.html?label=bc29a95ef28e11ee8e8d715acd892bb1&sid=f7dfbf4df493fe46ecc5e846650e34cc&aid=2167732&ucfs=1&arphpl=1&checkin=2024-04-04&checkout=2024-04-05&dest_id=900056686&dest_type=city&group_adults=1&req_adults=1&no_rooms=1&group_children=0&req_children=0&hpos=2&hapos=27&sr_order=popularity&srpvid=055b6563793c010b&srepoch=1712240812&all_sr_blocks=1118779601_384705564_1_2_0&highlighted_blocks=1118779601_384705564_1_2_0&matching_block_id=1118779601_384705564_1_2_0&sr_pri_blocks=1118779601_384705564_1_2_0__206100&dcs_click=1&from=searchresults#hotelTmpl', 'https://www.booking.com/hotel/in/forest-view-cottage-jibhi.html?label=bc29a95ef28e11ee8e8d715acd892bb1&sid=f7dfbf4df493fe46ecc5e846650e34cc&aid=2167732&ucfs=1&arphpl=1&checkin=2024-04-04&checkout=2024-04-05&dest_id=900056686&dest_type=city&group_adults=1&req_adults=1&no_rooms=1&group_children=0&req_children=0&hpos=19&hapos=44&sr_order=popularity&srpvid=055b6563793c010b&srepoch=1712240812&all_sr_blocks=1132730801_385918384_1_2_0&highlighted_blocks=1132730801_385918384_1_2_0&matching_block_id=1132730801_385918384_1_2_0&sr_pri_blocks=1132730801_385918384_1_2_0__200000&dcs_click=1&from=searchresults#hotelTmpl', 'https://www.booking.com/hotel/in/hillside-hideaway-kullu.html?label=bc29a95ef28e11ee8e8d715acd892bb1&sid=f7dfbf4df493fe46ecc5e846650e34cc&aid=2167732&ucfs=1&arphpl=1&checkin=2024-04-04&checkout=2024-04-05&dest_id=900056686&dest_type=city&group_adults=1&req_adults=1&no_rooms=1&group_children=0&req_children=0&hpos=18&hapos=18&sr_order=popularity&srpvid=055b6563793c010b&srepoch=1712240831&all_sr_blocks=1180951906_390540058_2_2_0&highlighted_blocks=1180951906_390540058_2_2_0&matching_block_id=1180951906_390540058_2_2_0&sr_pri_blocks=1180951906_390540058_2_2_0__200000&dcs_click=1&from=searchresults#hotelTmpl', 'https://www.booking.com/hotel/in/hilltop-home-stay-and-cafe.html?label=bc29a95ef28e11ee8e8d715acd892bb1&sid=f7dfbf4df493fe46ecc5e846650e34cc&aid=2167732&ucfs=1&arphpl=1&checkin=2024-04-04&checkout=2024-04-05&dest_id=900056686&dest_type=city&group_adults=1&req_adults=1&no_rooms=1&group_children=0&req_children=0&hpos=25&hapos=25&sr_order=popularity&srpvid=055b6563793c010b&srepoch=1712240831&all_sr_blocks=1154029401_388182038_2_2_0&highlighted_blocks=1154029401_388182038_2_2_0&matching_block_id=1154029401_388182038_2_2_0&sr_pri_blocks=1154029401_388182038_2_2_0__200000&dcs_click=1&from=searchresults#hotelTmpl', 'https://www.booking.com/hotel/in/whoopers-jibhi.html?label=bc29a95ef28e11ee8e8d715acd892bb1&sid=f7dfbf4df493fe46ecc5e846650e34cc&aid=2167732&ucfs=1&arphpl=1&checkin=2024-04-04&checkout=2024-04-05&dest_id=900056686&dest_type=city&group_adults=1&req_adults=1&no_rooms=1&group_children=0&req_children=0&hpos=7&hapos=7&sr_order=popularity&srpvid=055b6563793c010b&srepoch=1712240831&all_sr_blocks=715960008_373902436_2_2_0&highlighted_blocks=715960008_373902436_2_2_0&matching_block_id=715960008_373902436_2_2_0&sr_pri_blocks=715960008_373902436_2_2_0__199920&from_sustainable_property_sr=1&dcs_click=1&from=searchresults#hotelTmpl', 'https://www.booking.com/hotel/in/god-wood-homestay-shoja.html?label=bc29a95ef28e11ee8e8d715acd892bb1&sid=e24ce1e10494bbdad81eea9e540790e5&aid=2167732&ucfs=1&arphpl=1&checkin=2024-04-04&checkout=2024-04-05&group_adults=1&req_adults=1&no_rooms=1&group_children=0&req_children=0&hpos=4&hapos=4&sr_order=popularity&srpvid=0a346b22766c00ed&srepoch=1712243656&all_sr_blocks=1180005101_390458765_2_2_0&highlighted_blocks=1180005101_390458765_2_2_0&matching_block_id=1180005101_390458765_2_2_0&sr_pri_blocks=1180005101_390458765_2_2_0__198000&from=searchresults#hotelTmpl', 'https://www.booking.com/hotel/in/the-martens.html?label=bc29a95ef28e11ee8e8d715acd892bb1&sid=f7dfbf4df493fe46ecc5e846650e34cc&aid=2167732&ucfs=1&arphpl=1&checkin=2024-04-04&checkout=2024-04-05&dest_id=900056686&dest_type=city&group_adults=1&req_adults=1&no_rooms=1&group_children=0&req_children=0&hpos=22&hapos=47&sr_order=popularity&srpvid=055b6563793c010b&srepoch=1712240812&all_sr_blocks=1140638201_387894840_1_2_0&highlighted_blocks=1140638201_387894840_1_2_0&matching_block_id=1140638201_387894840_1_2_0&sr_pri_blocks=1140638201_387894840_1_2_0__192000&from_sustainable_property_sr=1&dcs_click=1&from=searchresults#hotelTmpl', 'https://www.booking.com/hotel/in/hth-by-hostalgic.html?label=bc29a95ef28e11ee8e8d715acd892bb1&sid=f7dfbf4df493fe46ecc5e846650e34cc&aid=2167732&ucfs=1&arphpl=1&checkin=2024-04-04&checkout=2024-04-05&dest_id=900056686&dest_type=city&group_adults=1&req_adults=1&no_rooms=1&group_children=0&req_children=0&hpos=16&hapos=16&sr_order=popularity&srpvid=055b6563793c010b&srepoch=1712240831&all_sr_blocks=1179658905_390626830_2_42_0&highlighted_blocks=1179658905_390626830_2_42_0&matching_block_id=1179658905_390626830_2_42_0&sr_pri_blocks=1179658905_390626830_2_42_0__184000&dcs_click=1&from=searchresults#hotelTmpl', 'https://www.booking.com/hotel/in/crystal-mountain-jibhi-kullu-hp.html?label=bc29a95ef28e11ee8e8d715acd892bb1&sid=f7dfbf4df493fe46ecc5e846650e34cc&aid=2167732&ucfs=1&arphpl=1&checkin=2024-04-04&checkout=2024-04-05&dest_id=900056686&dest_type=city&group_adults=1&req_adults=1&no_rooms=1&group_children=0&req_children=0&hpos=1&hapos=26&sr_order=popularity&srpvid=055b6563793c010b&srepoch=1712240812&all_sr_blocks=1161679301_389638166_2_2_0&highlighted_blocks=1161679301_389638166_2_2_0&matching_block_id=1161679301_389638166_2_2_0&sr_pri_blocks=1161679301_389638166_2_2_0__180000&dcs_click=1&from=searchresults#hotelTmpl', 'https://www.booking.com/hotel/in/rio-paradise-jibhi-jibhi1.html?label=bc29a95ef28e11ee8e8d715acd892bb1&sid=f7dfbf4df493fe46ecc5e846650e34cc&aid=2167732&ucfs=1&arphpl=1&checkin=2024-04-04&checkout=2024-04-05&dest_id=900056686&dest_type=city&group_adults=1&req_adults=1&no_rooms=1&group_children=0&req_children=0&hpos=10&hapos=35&sr_order=popularity&srpvid=055b6563793c010b&srepoch=1712240812&all_sr_blocks=692857801_285293930_1_42_0&highlighted_blocks=692857801_285293930_1_42_0&matching_block_id=692857801_285293930_1_42_0&sr_pri_blocks=692857801_285293930_1_42_0__180000&dcs_click=1&from=searchresults#hotelTmpl', 'https://www.booking.com/hotel/in/the-himalayan-sukoon-villa.html?label=bc29a95ef28e11ee8e8d715acd892bb1&sid=f7dfbf4df493fe46ecc5e846650e34cc&aid=2167732&ucfs=1&arphpl=1&checkin=2024-04-04&checkout=2024-04-05&dest_id=900056686&dest_type=city&group_adults=1&req_adults=1&no_rooms=1&group_children=0&req_children=0&hpos=20&hapos=45&sr_order=popularity&srpvid=055b6563793c010b&srepoch=1712240812&all_sr_blocks=996699601_372544949_1_41_0&highlighted_blocks=996699601_372544949_1_41_0&matching_block_id=996699601_372544949_1_41_0&sr_pri_blocks=996699601_372544949_1_41_0__179910&dcs_click=1&from=searchresults#hotelTmpl', 'https://www.booking.com/hotel/in/jibhi-mountain-retreat-jibhi.html?label=bc29a95ef28e11ee8e8d715acd892bb1&sid=f7dfbf4df493fe46ecc5e846650e34cc&aid=2167732&ucfs=1&arphpl=1&checkin=2024-04-04&checkout=2024-04-05&dest_id=900056686&dest_type=city&group_adults=1&req_adults=1&no_rooms=1&group_children=0&req_children=0&hpos=4&hapos=29&sr_order=popularity&srpvid=055b6563793c010b&srepoch=1712240812&all_sr_blocks=970643301_369467048_1_1_0&highlighted_blocks=970643301_369467048_1_1_0&matching_block_id=970643301_369467048_1_1_0&sr_pri_blocks=970643301_369467048_1_1_0__177760&dcs_click=1&from=searchresults#hotelTmpl', 'https://www.booking.com/hotel/in/jibhi-diaries-homestay.html?label=bc29a95ef28e11ee8e8d715acd892bb1&sid=f7dfbf4df493fe46ecc5e846650e34cc&aid=2167732&ucfs=1&arphpl=1&checkin=2024-04-04&checkout=2024-04-05&dest_id=900056686&dest_type=city&group_adults=1&req_adults=1&no_rooms=1&group_children=0&req_children=0&hpos=17&hapos=17&sr_order=popularity&srpvid=055b6563793c010b&srepoch=1712240831&all_sr_blocks=967871308_369227855_2_1_0&highlighted_blocks=967871308_369227855_2_1_0&matching_block_id=967871308_369227855_2_1_0&sr_pri_blocks=967871308_369227855_2_1_0__176400&from_sustainable_property_sr=1&dcs_click=1&from=searchresults#hotelTmpl', 'https://www.booking.com/hotel/in/anavrin-jibhi1.html?label=bc29a95ef28e11ee8e8d715acd892bb1&sid=f7dfbf4df493fe46ecc5e846650e34cc&aid=2167732&ucfs=1&arphpl=1&checkin=2024-04-04&checkout=2024-04-05&dest_id=900056686&dest_type=city&group_adults=1&req_adults=1&no_rooms=1&group_children=0&req_children=0&hpos=13&hapos=13&sr_order=popularity&srpvid=055b6563793c010b&srepoch=1712240831&all_sr_blocks=992439901_372209878_0_0_0&highlighted_blocks=992439901_372209878_0_0_0&matching_block_id=992439901_372209878_0_0_0&sr_pri_blocks=992439901_372209878_0_0_0__174755&dcs_click=1&from=searchresults#hotelTmpl', 'https://www.booking.com/hotel/in/venkys-place.html?label=bc29a95ef28e11ee8e8d715acd892bb1&sid=f7dfbf4df493fe46ecc5e846650e34cc&aid=2167732&ucfs=1&arphpl=1&checkin=2024-04-04&checkout=2024-04-05&dest_id=900056686&dest_type=city&group_adults=1&req_adults=1&no_rooms=1&group_children=0&req_children=0&hpos=22&hapos=22&sr_order=popularity&srpvid=055b6563793c010b&srepoch=1712240831&all_sr_blocks=897752204_360435216_1_42_0&highlighted_blocks=897752204_360435216_1_42_0&matching_block_id=897752204_360435216_1_42_0&sr_pri_blocks=897752204_360435216_1_42_0__160000&dcs_click=1&from=searchresults#hotelTmpl', 'https://www.booking.com/hotel/in/chirag-homestay.html?label=bc29a95ef28e11ee8e8d715acd892bb1&sid=f7dfbf4df493fe46ecc5e846650e34cc&aid=2167732&ucfs=1&arphpl=1&checkin=2024-04-04&checkout=2024-04-05&dest_id=900056686&dest_type=city&group_adults=1&req_adults=1&no_rooms=1&group_children=0&req_children=0&hpos=16&hapos=41&sr_order=popularity&srpvid=055b6563793c010b&srepoch=1712240812&all_sr_blocks=1144998201_387339243_1_0_0&highlighted_blocks=1144998201_387339243_1_0_0&matching_block_id=1144998201_387339243_1_0_0&sr_pri_blocks=1144998201_387339243_1_0_0__160000&dcs_click=1&from=searchresults#hotelTmpl', 'https://www.booking.com/hotel/in/red-house-cafe-amp-inn-jibhi.html?label=bc29a95ef28e11ee8e8d715acd892bb1&sid=f7dfbf4df493fe46ecc5e846650e34cc&aid=2167732&ucfs=1&arphpl=1&checkin=2024-04-04&checkout=2024-04-05&dest_id=900056686&dest_type=city&group_adults=1&req_adults=1&no_rooms=1&group_children=0&req_children=0&hpos=20&hapos=20&sr_order=popularity&srpvid=055b6563793c010b&srepoch=1712240831&all_sr_blocks=1139442201_386827358_1_42_0&highlighted_blocks=1139442201_386827358_1_42_0&matching_block_id=1139442201_386827358_1_42_0&sr_pri_blocks=1139442201_386827358_1_42_0__153520&dcs_click=1&from=searchresults#hotelTmpl', 'https://www.booking.com/hotel/in/orange-sky-homestay.html?label=bc29a95ef28e11ee8e8d715acd892bb1&sid=f7dfbf4df493fe46ecc5e846650e34cc&aid=2167732&ucfs=1&arphpl=1&checkin=2024-04-04&checkout=2024-04-05&dest_id=900056686&dest_type=city&group_adults=1&req_adults=1&no_rooms=1&group_children=0&req_children=0&hpos=14&hapos=14&sr_order=popularity&srpvid=055b6563793c010b&srepoch=1712240831&all_sr_blocks=780642103_336482431_0_42_0&highlighted_blocks=780642103_336482431_0_42_0&matching_block_id=780642103_336482431_0_42_0&sr_pri_blocks=780642103_336482431_0_42_0__135000&from_sustainable_property_sr=1&dcs_click=1&from=searchresults#hotelTmpl', 'https://www.booking.com/hotel/in/peekaboo.html?label=bc29a95ef28e11ee8e8d715acd892bb1&sid=f7dfbf4df493fe46ecc5e846650e34cc&aid=2167732&ucfs=1&arphpl=1&checkin=2024-04-04&checkout=2024-04-05&dest_id=900056686&dest_type=city&group_adults=1&req_adults=1&no_rooms=1&group_children=0&req_children=0&hpos=10&hapos=10&sr_order=popularity&srpvid=055b6563793c010b&srepoch=1712240831&all_sr_blocks=708653502_295699896_1_42_0&highlighted_blocks=708653502_295699896_1_42_0&matching_block_id=708653502_295699896_1_42_0&sr_pri_blocks=708653502_295699896_1_42_0__134910&from_sustainable_property_sr=1&dcs_click=1&from=searchresults#hotelTmpl', 'https://www.booking.com/hotel/in/pineroots-homestay-amp-cafe.html?label=bc29a95ef28e11ee8e8d715acd892bb1&sid=f7dfbf4df493fe46ecc5e846650e34cc&aid=2167732&ucfs=1&arphpl=1&checkin=2024-04-04&checkout=2024-04-05&dest_id=900056686&dest_type=city&group_adults=1&req_adults=1&no_rooms=1&group_children=0&req_children=0&hpos=24&hapos=24&sr_order=popularity&srpvid=055b6563793c010b&srepoch=1712240831&all_sr_blocks=1158639601_388600004_1_2_0&highlighted_blocks=1158639601_388600004_1_2_0&matching_block_id=1158639601_388600004_1_2_0&sr_pri_blocks=1158639601_388600004_1_2_0__132000&dcs_click=1&from=searchresults#hotelTmpl', 'https://www.booking.com/hotel/in/sojhaholidayinn.html?label=bc29a95ef28e11ee8e8d715acd892bb1&sid=e24ce1e10494bbdad81eea9e540790e5&aid=2167732&ucfs=1&arphpl=1&checkin=2024-04-04&checkout=2024-04-05&group_adults=1&req_adults=1&no_rooms=1&group_children=0&req_children=0&hpos=5&hapos=5&sr_order=popularity&srpvid=0a346b22766c00ed&srepoch=1712243656&all_sr_blocks=1159411502_388658364_2_42_0&highlighted_blocks=1159411502_388658364_2_42_0&matching_block_id=1159411502_388658364_2_42_0&sr_pri_blocks=1159411502_388658364_2_42_0__130000&from=searchresults#hotelTmpl', 'https://www.booking.com/hotel/in/satyam-homes.html?label=bc29a95ef28e11ee8e8d715acd892bb1&sid=e24ce1e10494bbdad81eea9e540790e5&aid=2167732&ucfs=1&arphpl=1&checkin=2024-04-04&checkout=2024-04-05&group_adults=1&req_adults=1&no_rooms=1&group_children=0&req_children=0&hpos=1&hapos=1&sr_order=popularity&srpvid=0a346b22766c00ed&srepoch=1712243656&all_sr_blocks=838529603_350298861_2_0_0&highlighted_blocks=838529603_350298861_2_0_0&matching_block_id=838529603_350298861_2_0_0&sr_pri_blocks=838529603_350298861_2_0_0__126000&from_sustainable_property_sr=1&from=searchresults#hotelTmpl', 'https://www.booking.com/hotel/in/lets-take-it-easy-lte.html?label=bc29a95ef28e11ee8e8d715acd892bb1&sid=f7dfbf4df493fe46ecc5e846650e34cc&aid=2167732&ucfs=1&arphpl=1&checkin=2024-04-04&checkout=2024-04-05&dest_id=900056686&dest_type=city&group_adults=1&req_adults=1&no_rooms=1&group_children=0&req_children=0&hpos=11&hapos=11&sr_order=popularity&srpvid=055b6563793c010b&srepoch=1712240831&all_sr_blocks=931847603_365255398_1_42_0&highlighted_blocks=931847603_365255398_1_42_0&matching_block_id=931847603_365255398_1_42_0&sr_pri_blocks=931847603_365255398_1_42_0__117000&from_sustainable_property_sr=1&dcs_click=1&from=searchresults#hotelTmpl', 'https://www.booking.com/hotel/in/above-the-river-behind-the-forrest.html?label=bc29a95ef28e11ee8e8d715acd892bb1&sid=f7dfbf4df493fe46ecc5e846650e34cc&aid=2167732&ucfs=1&arphpl=1&checkin=2024-04-04&checkout=2024-04-05&dest_id=900056686&dest_type=city&group_adults=1&req_adults=1&no_rooms=1&group_children=0&req_children=0&hpos=21&hapos=21&sr_order=popularity&srpvid=055b6563793c010b&srepoch=1712240831&all_sr_blocks=1113641901_384289249_1_1_0&highlighted_blocks=1113641901_384289249_1_1_0&matching_block_id=1113641901_384289249_1_1_0&sr_pri_blocks=1113641901_384289249_1_1_0__112590&dcs_click=1&from=searchresults#hotelTmpl', 'https://www.booking.com/hotel/in/salida-homes-jibhi.html?label=bc29a95ef28e11ee8e8d715acd892bb1&sid=f7dfbf4df493fe46ecc5e846650e34cc&aid=2167732&ucfs=1&arphpl=1&checkin=2024-04-04&checkout=2024-04-05&dest_id=900056686&dest_type=city&group_adults=1&req_adults=1&no_rooms=1&group_children=0&req_children=0&hpos=12&hapos=12&sr_order=popularity&srpvid=055b6563793c010b&srepoch=1712240831&all_sr_blocks=1163396505_389027716_1_42_0&highlighted_blocks=1163396505_389027716_1_42_0&matching_block_id=1163396505_389027716_1_42_0&sr_pri_blocks=1163396505_389027716_1_42_0__100000&dcs_click=1&from=searchresults#hotelTmpl', 'https://www.booking.com/hotel/in/reverberate-cafe-amp-cottages-negis-place-jibhi.html?label=bc29a95ef28e11ee8e8d715acd892bb1&sid=f7dfbf4df493fe46ecc5e846650e34cc&aid=2167732&ucfs=1&arphpl=1&checkin=2024-04-04&checkout=2024-04-05&dest_id=900056686&dest_type=city&group_adults=1&req_adults=1&no_rooms=1&group_children=0&req_children=0&hpos=6&hapos=6&sr_order=popularity&srpvid=055b6563793c010b&srepoch=1712240831&all_sr_blocks=794367103_339485736_1_0_0&highlighted_blocks=794367103_339485736_1_0_0&matching_block_id=794367103_339485736_1_0_0&sr_pri_blocks=794367103_339485736_1_0_0__88400&dcs_click=1&from=searchresults#hotelTmpl', 'https://www.booking.com/hotel/in/the-woodpecker-inn-jibhi.html?label=bc29a95ef28e11ee8e8d715acd892bb1&sid=f7dfbf4df493fe46ecc5e846650e34cc&aid=2167732&ucfs=1&arphpl=1&checkin=2024-04-04&checkout=2024-04-05&dest_id=900056686&dest_type=city&group_adults=1&req_adults=1&no_rooms=1&group_children=0&req_children=0&hpos=1&hapos=1&sr_order=popularity&srpvid=055b6563793c010b&srepoch=1712240831&all_sr_blocks=1134402104_386106310_1_2_0&highlighted_blocks=1134402104_386106310_1_2_0&matching_block_id=1134402104_386106310_1_2_0&sr_pri_blocks=1134402104_386106310_1_2_0__54900&from_sustainable_property_sr=1&dcs_click=1&from=searchresults#hotelTmpl', 'https://www.booking.com/hotel/in/yolo-hostel-jibhi.html?label=bc29a95ef28e11ee8e8d715acd892bb1&sid=f7dfbf4df493fe46ecc5e846650e34cc&aid=2167732&ucfs=1&arphpl=1&checkin=2024-04-04&checkout=2024-04-05&dest_id=900056686&dest_type=city&group_adults=1&req_adults=1&no_rooms=1&group_children=0&req_children=0&hpos=9&hapos=9&sr_order=popularity&srpvid=055b6563793c010b&srepoch=1712240831&all_sr_blocks=825095501_389759492_1_42_0&highlighted_blocks=825095501_389759492_1_42_0&matching_block_id=825095501_389759492_1_42_0&sr_pri_blocks=825095501_389759492_1_42_0__49900&from_sustainable_property_sr=1&dcs_click=1&from=searchresults#hotelTmpl', 'https://www.booking.com/hotel/in/the-hosteller-jibhi.html?label=bc29a95ef28e11ee8e8d715acd892bb1&sid=f7dfbf4df493fe46ecc5e846650e34cc&aid=2167732&ucfs=1&arphpl=1&checkin=2024-04-04&checkout=2024-04-05&dest_id=900056686&dest_type=city&group_adults=1&req_adults=1&no_rooms=1&group_children=0&req_children=0&hpos=3&hapos=3&sr_order=popularity&srpvid=055b6563793c010b&srepoch=1712240831&all_sr_blocks=632165004_386134647_0_0_0&highlighted_blocks=632165004_386134647_0_0_0&matching_block_id=632165004_386134647_0_0_0&sr_pri_blocks=632165004_386134647_0_0_0__43920&from_sustainable_property_sr=1&dcs_click=1&from=searchresults#hotelTmpl', 'https://www.booking.com/hotel/in/madpackers-jibhi-jibhi.html?label=bc29a95ef28e11ee8e8d715acd892bb1&sid=f7dfbf4df493fe46ecc5e846650e34cc&aid=2167732&ucfs=1&arphpl=1&checkin=2024-04-04&checkout=2024-04-05&dest_id=900056686&dest_type=city&group_adults=1&req_adults=1&no_rooms=1&group_children=0&req_children=0&hpos=2&hapos=2&sr_order=popularity&srpvid=055b6563793c010b&srepoch=1712240831&all_sr_blocks=776664905_350271116_1_0_0&highlighted_blocks=776664905_350271116_1_0_0&matching_block_id=776664905_350271116_1_0_0&sr_pri_blocks=776664905_350271116_1_0_0__43200&from_sustainable_property_sr=1&dcs_click=1&from=searchresults#hotelTmpl'])"
      ]
     },
     "execution_count": 58,
     "metadata": {},
     "output_type": "execute_result"
    }
   ],
   "source": [
    "hotel_documents.keys()"
   ]
  },
  {
   "cell_type": "code",
   "execution_count": 59,
   "id": "1fb033a5-9aae-4a00-8594-df9ee4feba6e",
   "metadata": {},
   "outputs": [],
   "source": [
    "def get_text(href, hotel_documents=hotel_documents):\n",
    "    return hotel_documents[href]"
   ]
  },
  {
   "cell_type": "code",
   "execution_count": 62,
   "id": "6518bbcd-3a6f-4293-863e-0774f594c912",
   "metadata": {},
   "outputs": [],
   "source": [
    "href = hrefs[1]"
   ]
  },
  {
   "cell_type": "code",
   "execution_count": 63,
   "id": "c82d550e-b2ba-4790-9479-09b9af9f88e8",
   "metadata": {
    "scrolled": true
   },
   "outputs": [
    {
     "data": {
      "text/plain": [
       "\"Natur3Rich, Jibhi  Updated 2024 Prices Skip to main content USDList your propertyRegisterSign inStaysFlightsFlight + HotelCar rentalsCruisesAttractionsAirport taxisMore Home Hotels All resorts India Himachal Pradesh Jibhi Natur3Rich (Resort), Jibhi (India) Deals OverviewInfo & pricesAmenitiesHouse rulesThe fine printNo reviews yetMore SearchDestination/property name:Check-in date+Check-in DateCheck-out date+Check-out Date2 adults  0 children  1 roomI'm traveling for workSearch Show on map Reserve your resort stay We Price Match New to Booking.com Natur3Rich Natur3Rich Jibhi, Village Tandi, 175123 Jibhi, India  Show map After booking, all of the propertys details, including telephone and address, are provided in your booking confirmation and your account. +1 photo Natur3Rich Reserve now Gallery Close No review score yet...We need at least 1 reviews before we can calculate a review score. If you book and review your stay, you can help Natur3Rich meet this goal.Write a review Located in Jibhi, Natur3Rich has a garden, terrace, restaurant, and free WiFi throughout the property. The property has room service and a 24-hour front desk for guests. At the resort, all rooms include a desk, bed linen and a balcony with a mountain view. The private bathroom is equipped with a shower, free toiletries and a hairdryer. Natur3Rich offers an  la carte or vegetarian breakfast. The nearest airport is KulluManali Airport, 31 miles from the accommodation. Distance in property description is calculated using  OpenStreetMap Show me more Most popular amenitiesFree WiFi Non-smoking rooms Free parking Room service Family rooms Breakfast Property Highlights Breakfast Info Vegetarian, Breakfast to go Free private parking Reserve Save the property Saved to 17 lists Availability We Price Match Select dates to see this property's availability and prices Check-in Date  Check-out Date2 adults  0 children  1 roomSearch Room TypeNumber of guests Superior King Room1 king bedShow prices Something went wrong  please try again later. No credit card needed to book. We'll send you an email confirming your reservation. Area infoSee availabilityResort Facilities at Natur3RichSee availabilityMost popular amenitiesFree WiFi Non-smoking rooms Free parking Room service Family rooms Breakfast BathroomToilet paper Towels Slippers Private Bathroom Toilet Free toiletries Bathrobe Hairdryer Shower BedroomLinens ViewMountain view View OutdoorsBalcony Terrace Garden KitchenDining table Electric kettle Room AmenitiesClothes rack Living AreaDining area Desk InternetWiFi is available in all areas and is free of charge.ParkingFree private parking is available at a location nearby (reservation is needed).ServicesWake-up service 24-hour front desk Room service GeneralSmoke-free property Heating Fan Family rooms Non-smoking rooms Languages SpokenEnglish Hindi See availability House rules Natur3Rich takes special requests  add in the next step! Check-in From 2:00 PM to 6:00 PM Check-out From 8:00 AM to 11:00 AM Cancellation/ prepayment Cancellation and prepayment policies vary according to accommodations type. Please enter the dates of your stay and check what conditions apply to your preferred room. Children & Beds Child policiesChildren of all ages are welcome.To see correct prices and occupancy info, add the number and ages of children in your group to your search.Crib and extra bed policies0+ yearsExtra bed upon requestRs. 3,700 per person, per nightPrices for extra beds aren't included in the total price. They'll have to be paid for separately during your stay.The number of extra beds allowed depends on the option you choose. Check your selected option for more info.There are no cribs available at this property.All extra beds are subject to availability. No age restriction There's no age requirement for check-in Pets Pets are not allowed. Cash only This property only accepts cash payments. The fine printMust-know information for guests at this propertySee availabilityThis property does not accommodate bachelor(ette) or similar parties.\""
      ]
     },
     "execution_count": 63,
     "metadata": {},
     "output_type": "execute_result"
    }
   ],
   "source": [
    "get_text(href)"
   ]
  },
  {
   "cell_type": "code",
   "execution_count": 66,
   "id": "51ad51e3-3181-493c-9cf3-ce3398c1335c",
   "metadata": {},
   "outputs": [],
   "source": [
    "competition['text'] = competition['Hotel-link'].map(lambda x: get_text(x, hotel_documents))"
   ]
  },
  {
   "cell_type": "code",
   "execution_count": 67,
   "id": "5ac22446-a331-4c7d-8026-de19dc55d05f",
   "metadata": {},
   "outputs": [],
   "source": [
    "competition.to_csv(\"Competition.csv\")"
   ]
  },
  {
   "cell_type": "code",
   "execution_count": 50,
   "id": "3735dbc8-b843-497b-a62d-820ea98208af",
   "metadata": {
    "scrolled": true
   },
   "outputs": [
    {
     "data": {
      "text/plain": [
       "\"\\n\\n\\n\\n\\n\\n\\n\\n\\n\\n\\n\\n\\n\\n\\n\\n\\n\\n\\n\\n\\n\\n\\n\\n\\n\\n\\n\\n\\n\\n\\n\\n\\nMoksha luxurious,Jibhi, Jibhi – Updated 2024 Prices\\n\\n\\n\\n\\n\\n\\n\\n\\n\\n\\n\\n\\n\\n\\n\\n\\n\\n\\n\\n\\n\\n\\n\\n\\n\\n\\n\\n\\n\\n\\n\\n\\n\\n\\n\\n\\n\\n\\n\\n\\n\\n\\n\\n\\n\\n\\n\\n\\n\\n\\n\\n\\n\\n\\n\\n\\n\\n\\n\\n\\n\\n\\n\\n\\n\\n\\n\\n\\n\\n\\n\\n\\n\\n\\n\\n\\n\\n\\n\\n\\n\\n\\n\\n\\n\\n\\n\\n\\n\\n\\n\\n\\n\\n\\n\\n\\n\\n\\n\\n\\n\\n\\n\\n\\n\\n\\n\\nSkip to main content\\n\\n\\n\\n\\n\\n\\nUSDList your propertyRegisterSign inStaysFlightsFlight + HotelCar rentalsCruisesAttractionsAirport taxisMore\\n\\n\\n\\n\\n\\n\\n\\n\\n\\n\\nHome\\n\\n\\n\\n\\n\\n\\n\\n\\n\\nHotels\\n\\n\\n\\n\\n\\n\\n\\n\\n\\n\\nAll vacation homes\\n\\n\\n\\n\\n\\n\\n\\n\\n\\n\\nIndia\\n\\n\\n\\n\\n\\n\\n\\n\\n\\n\\nHimachal Pradesh\\n\\n\\n\\n\\n\\n\\n\\n\\n\\n\\nJibhi\\n\\n\\n\\n\\n\\n\\n\\n\\n\\n\\n\\n\\nMoksha luxurious,Jibhi (Vacation Home) (India) Deals\\n\\n\\n\\n\\n\\n\\n\\n\\n\\n\\n\\n\\n\\n\\n\\n\\n\\n\\n\\n\\n\\n\\n\\n\\n\\n\\n\\n\\n\\n\\n\\n\\n\\n\\n\\n\\n\\n\\nOverviewVacation Home Info & PriceAmenitiesHouse rulesOne of our newest propertiesMore\\n\\n\\n\\nSearchDestination/property name:Check-in date+Check-in DateCheck-out date+Check-out Date2 adults · 0 children · 1 roomI'm traveling for workSearch\\n\\n\\n\\n\\n\\n\\nShow on map\\n\\n\\n\\n\\n\\n\\n\\n\\n\\n\\n\\n\\n\\n\\n\\n\\n\\n\\n\\n\\n\\n\\n\\n\\n\\n\\n\\n\\n\\n\\n\\n\\n\\n\\n\\n\\n\\n\\n\\n\\n\\n\\n\\n\\n\\n\\n\\n\\n\\n\\n\\n\\n\\n\\n\\n\\n\\n\\n\\n\\n\\n\\n\\n\\n\\n\\n\\n\\n\\n\\n\\n\\n\\n\\n\\n\\n\\n\\n\\n\\n\\n\\n\\n\\n\\n\\n\\n\\n\\n\\n\\n\\n\\n\\n\\n\\n\\n\\n\\n\\n\\n\\n\\n\\n\\n\\n\\n\\n\\n\\n\\n\\n\\n\\n\\n\\n\\n\\n\\n\\n\\n\\n\\n\\n\\nBook your vacation home stay\\n\\n\\n\\n\\n\\nWe Price Match\\n\\n\\n\\n\\n\\n\\nNew to Booking.com\\n\\nMoksha luxurious,Jibhi\\n\\n\\n\\nMoksha luxurious,Jibhi\\n\\n\\n\\n\\n\\n\\nVillage Mihar jibhi, 175123 Jibhi, India\\n\\n\\n–\\n\\nShow map\\n\\n\\n\\n\\nAfter booking, all of the property’s details, including telephone and address, are provided in your booking confirmation and your account.\\n\\n\\n\\n\\n\\n\\n\\n\\n\\n\\n\\n\\n\\n\\n\\n\\nWonderful location\\n\\n\\n\\n\\n\\n\\n\\n\\n\\n\\n\\n\\n\\n\\n\\n\\n\\n\\n\\n\\n\\n\\n\\n\\n\\n\\n\\n\\n\\n\\n\\n\\n\\n\\n\\n\\n\\n\\n\\n\\n\\n\\n\\n\\n\\n\\n\\n\\n\\n\\n\\n\\n\\n\\n\\n\\n\\n\\n\\n\\n+8 photos\\n\\n\\n\\n\\n\\n\\n\\n\\n\\n\\n\\n\\n\\nMoksha luxurious,Jibhi\\n\\n\\n\\nReserve now\\n\\n\\n\\n\\n\\n\\n\\n\\n\\nGallery\\n\\n\\n\\n\\n\\n\\nClose\\n\\n\\n\\n\\n\\n\\n\\n\\n\\n\\n\\n\\n\\n\\n\\n\\n\\n\\n\\n\\n\\n\\n\\n\\n\\n\\n\\n\\n\\n\\n\\n\\n\\n\\n\\n\\n\\n\\n\\n\\n\\n\\n\\n\\n\\n\\n\\n\\n\\n\\n\\n\\nNo review score yet...We need at least 1 reviews before we can calculate a review score. If you book and review your stay, you can help Moksha luxurious,Jibhi meet this goal.Write a review\\n\\n\\n\\n\\n\\n\\n\\n\\n\\n\\nEntire homeViewGardenPet friendlyFree WiFiTerraceBalconyFree parkingAir conditioningNon-smoking rooms\\n\\n\\n\\n\\n\\n\\n\\n\\n\\n\\n\\n\\nOffering a garden, Moksha luxurious, Jibhi offers accommodations in Jibhi. This property offers access to a balcony, free private parking, and free Wifi.\\n\\nWith direct access to a terrace with garden views, the air-conditioned vacation home consists of 1 bedroom.\\n\\nThe nearest airport is Kullu–Manali Airport, 32 miles from the vacation home.\\n\\n\\nDistance in property description is calculated using © OpenStreetMap\\n\\nShow me more\\n\\n\\n\\n\\n\\n\\nMost popular amenitiesFree WiFi Non-smoking rooms Free parking Family rooms Breakfast \\n\\n\\n\\n\\n\\n\\n\\n\\nProperty Highlights\\n\\n\\n\\n\\n\\n\\n\\n\\nFree private parking\\n\\n\\n\\n\\n\\n\\n\\n\\nReserve\\n\\n\\n\\n\\n\\nSave the property\\n\\n\\nBe one of the first to add\\n\\n\\n\\n\\n\\n\\n\\n\\n\\n\\n\\n\\n\\n\\n\\n\\n\\n\\n\\n\\n\\nAvailability\\n\\n\\nWe Price Match\\n\\n\\n\\n\\n\\n\\n\\nSelect dates to see this property's availability and prices\\n\\n\\n\\nCheck-in Date — Check-out Date2 adults · 0 children · 1 roomSearch\\n\\n\\n\\n\\n\\nAccommodation TypeNumber of guests\\xa0One-Bedroom House1 queen bedShow prices\\n\\n\\n\\n\\n\\n\\n\\n\\n\\n\\n\\n\\n\\n\\n\\n\\n\\n\\n\\n\\n\\n\\n\\n\\n\\n\\n\\n\\n\\n\\n\\n\\n\\nSomething went wrong – please try again later.\\n\\n\\n\\n\\n\\n\\n\\n\\n\\n\\n\\n       No credit card needed to book. We'll send you an email confirming your reservation.  \\n\\n\\n\\n\\n\\n\\nHost InfoMost Beautiful property with Hot Tub jacuzzi,\\nGlass roof is beautiful and the balcony view is awesome from property.Languages spoken: English,HindiArea infoSee availabilityAmenities of Moksha luxurious,JibhiSee availabilityMost popular amenitiesFree WiFi Non-smoking rooms Free parking Family rooms Breakfast ParkingFree private parking is available at a location nearby (reservation is not needed).InternetWiFi is available in all areas and is free of charge.Room AmenitiesHeating Hot tub PetsPets are allowed. No extra charges.OutdoorsBalcony Terrace Garden SpaHot tub/Jacuzzi Outdoor & ViewGarden view View MiscellaneousAir conditioning Family rooms Non-smoking rooms Languages SpokenEnglish Hindi \\n\\n\\n\\n\\n\\n\\n\\n\\n\\n\\n\\n\\nSee availability\\n\\n\\nHouse rules\\n\\n\\n\\nMoksha luxurious,Jibhi takes special requests – add in the next step!\\n\\n\\n\\n\\n\\n\\n\\n\\n\\nCheck-in\\n\\n\\n\\nFrom 2:00\\xa0PM to 10:00\\xa0PM\\n\\nYou need to let the property know what time you'll be arriving in advance. \\n\\n\\n\\n\\n\\n\\n\\nCheck-out\\n\\n\\n\\nFrom 11:00\\xa0AM to 12:00\\xa0PM\\n\\n\\xa0\\n\\n\\n\\n\\n\\n\\n\\n\\nCancellation/\\nprepayment\\n\\n\\n\\nCancellation and prepayment policies vary according to accommodations type.\\nPlease enter the dates of your stay and check what conditions apply to your preferred room.\\n\\n\\n\\n\\n\\n\\n\\n\\nChildren & Beds\\n\\n\\n\\n\\nChild policies\\nChildren of all ages are welcome.\\n\\nTo see correct prices and occupancy info, add the number and ages of children in your group to your search. \\n\\nCrib and extra bed policies\\n\\n\\n\\n0 - 3 years\\n\\n\\n\\n\\n\\n\\n\\n\\nCrib by request\\n\\n\\n\\n\\n\\nRs.\\xa01,000 per child, per night\\n\\n\\n\\n\\n\\n\\n\\n\\nAdditional fees are not calculated automatically in the total cost and will have to be paid for separately during your stay.\\n\\n1 crib available on request. \\n\\nAll cribs and extra beds are subject to availability.\\n\\n\\n\\n\\n\\n\\n\\n\\n\\n\\nNo age restriction\\n\\n\\nThere's no age requirement for check-in\\n\\n\\n\\n\\n\\n\\n\\n\\nPets\\n\\n\\nFree!\\nPets are allowed. No extra charges.\\n\\n\\n\\n\\n\\n\\n\\n\\n\\n\\n\\n\\n\\n\\n\\n\\n\\n\\n\\nFAQs about Moksha luxurious,Jibhi\\n\\n\\n\\n\\n\\n\\n\\n\\n\\n\\nWhat is there to do at Moksha luxurious,Jibhi?\\n\\n\\n\\n\\n\\n\\n\\n\\nMoksha luxurious,Jibhi offers the following activities/services (charges may apply): Hot tub/Jacuzzi\\n\\n\\n\\n\\n\\n\\n\\nHow far is Moksha luxurious,Jibhi from the center of Jibhi?\\n\\n\\n\\n\\n\\n\\n\\n\\nMoksha luxurious,Jibhi is 1.1 miles from the center of Jibhi.\\nAll distances are measured in straight lines. Actual travel distances may vary.\\n\\n\\n\\n\\n\\n\\n\\n\\nDoes Moksha luxurious,Jibhi have a terrace?\\n\\n\\n\\n\\n\\n\\n\\n\\nYes, there are options at this property that have a terrace. You can find out more about this and the other facilities at Moksha luxurious,Jibhi on this page.\\n\\n\\n\\n\\n\\n\\n\\n\\nIs Moksha luxurious,Jibhi popular with families?\\n\\n\\n\\n\\n\\n\\n\\n\\nYes, Moksha luxurious,Jibhi is popular with guests booking family stays.\\n\\n\\n\\n\\n\\n\\n\\n\\nWhat are the check-in and check-out times at Moksha luxurious,Jibhi?\\n\\n\\n\\n\\n\\n\\n\\n\\nCheck-in at Moksha luxurious,Jibhi is from 2:00\\xa0PM, and check-out is until 12:00\\xa0PM.\\n\\n\\n\\n\\n\\n\\n\\n\\nHow many bedrooms does have Moksha luxurious,Jibhi have?\\n\\n\\n\\n\\n\\n\\n\\n\\nMoksha luxurious,Jibhi has the following number of bedrooms: 1 bedroom\\nFor more detailed info, check the accommodation option(s) breakdown on this page.\\n\\n\\n\\n\\n\\n\\n\\nHow much does it cost to stay at Moksha luxurious,Jibhi?\\n\\n\\n\\n\\n\\n\\n\\n\\nThe prices at Moksha luxurious,Jibhi may vary depending on your stay (e.g. dates, hotel's policy etc.). To see prices, enter your dates.\\n\\n\\n\\n\\n\\n\\n\\n\\nHow many guests can sleep at Moksha luxurious,Jibhi?\\n\\n\\n\\n\\n\\n\\n\\n\\nMoksha luxurious,Jibhi can accommodate this group size: 2 guests\\nFor more detailed info, check the accommodation option(s) breakdown on this page.\\n\\n\\n\\n\\n\\n\\n\\nDoes Moksha luxurious,Jibhi have a hot tub for its guests?\\n\\n\\n\\n\\n\\n\\n\\n\\nYes, there's a hot tub. You can find out more about this and the other facilities at Moksha luxurious,Jibhi on this page.\\n\\n\\n\\n\\n\\n\\n\\n\\nDoes Moksha luxurious,Jibhi have a balcony?\\n\\n\\n\\n\\n\\n\\n\\n\\nYes, there are options at this property that have a balcony. You can find out more about this and the other facilities at Moksha luxurious,Jibhi on this page.\\n\\n\\n\\n\\n\\n\\n\\n\\n\\n\\n\\n\\n\\n\\n\\n\\n\\n\\n\\n\\n\\n\\n\\n\\n\\n\\n\\n\\n\\n\\n\\n\\n\\n\\n\\n\\n\\n\\n\\n\\n\\n\\n\\n\\n\\nShow more\\n\\n\\n\\n\\n\\n\\n\\n\\n\\n\\n\\n\\n\\n\\n\\n\\n\\n\\n\\n\\n\\n\\n\\n\\n\\n\\n\\n\\n\\n\\n\\n\\n\\n\\n\\n\\n\\n\\n\\n\\n\\n\\n\\n\\n\\n\\n\\nShow more\\n\\n\\n\\n\\n\\n\\n\\n\\n\\nThe Best of Jibhi\\n\\n\\n\\nClick here to see more properties near popular landmarks in Jibhi\\n\\n\\n\\n\\n\\n\\n\\n\\nMost Popular Cities\\n\\n\\n\\n\\nKasol\\n\\n\\n\\n\\nTosh\\n\\n\\n\\n\\nKulu\\n\\n\\n\\n\\nNārkanda\\n\\n\\n\\n\\nKheerganga\\n\\n\\n\\n\\n\\n\\n\\n\\n\\n\\n\\n\\n\\n\\n\\n\\n\\n\\n\\n\\n\\n\\n\\n\\n\\n\\n\\n\\n\\n\\n\\n\\n\\n\\n\\n\\n\\nSave time, save money!\\n\\n\\nSign up and we'll send the best deals to you\\n\\n\\n\\n\\n\\nEnter your email address and we'll send you our best deals\\n\\n\\n\\n\\nSubscribe\\n\\n\\n\\n\\n\\n\\nError:\\nPlease enter a valid email address.\\n\\n\\n\\nError:\\nOops! An error has occurred.\\n\\n\\n\\nThanks! We've sent you an email so you can confirm your subscription\\n\\n\\n\\n\\n\\n\\n\\n\\n\\n\\nCountriesRegionsCitiesDistrictsAirportsHotelsPlaces of interestVacation HomesApartmentsResortsVillasHostelsB&BsGuest housesUnique places to stayReviewsDiscover monthly staysSupportCoronavirus (COVID-19) FAQsManage your tripsCustomer Service helpSafety Resource CenterDiscoverGenius loyalty programSeasonal and holiday dealsTravel articlesBooking.com for BusinessTraveller Review AwardsCar rentalFlight finderRestaurant reservationsBooking.com for Travel AgentsTerms and settingsPrivacy & cookiesTerms & conditionsDispute resolutionMSA statementPartnersExtranet loginPartner helpList your propertyBecome an affiliateAboutAbout Booking.comHow We WorkSustainabilityPress centerCareersInvestor relationsCorporate contactUSDBooking.com is part of Booking Holdings Inc., the world leader in online travel and related services.\\nCopyright © 1996–2024 Booking.com™. All rights reserved.\\n\\n\\n\\n\\n\\n\\n\\nStart of dialog content\\n\\nVerified reviews from real guests.\\nWe have more than 70 million property reviews, all from real, verified guests.\\n\\n\\n\\nHow does it work?\\n\\n\\n\\n\\n1\\n\\n\\n\\nIt starts with a booking\\nIt starts with a booking\\nThe only way to leave a review is to first make a booking. That's how we know our reviews come from real guests who have stayed at the property.\\n\\n\\n\\n\\n\\n\\n\\n2\\n\\n\\n\\nFollowed by a trip\\nFollowed by a trip\\nWhen guests stay at the property, they check out how quiet the room is, how friendly the staff is, and more.\\n\\n\\n\\n\\n\\n\\n\\n3\\n\\n\\n\\nAnd finally, a review\\nAnd finally, a review\\nAfter their trip, guests tell us about their stay. We check for naughty words and verify the authenticity of all guest reviews before adding them to our site.\\n\\n\\n\\n\\nIf you booked through us and want to leave a review, please sign in first.\\n\\nSign in and leave a review\\n\\nEnd of dialog content\\n\\n\\nCheck-in date\\nCheck-out date\\n\\n\\n«\\n\\n\\n\\n\\n\\n\\n\\n\\n\\n\\n\\n\\n\\n\\n\\n\\n\\n\\n\\n\\n\\n\\n\\n\\n\\n\\n\\n\\n\\n\\n\\n\\n\\n\\n»\\n\\n\\n\\n\\nSu\\nMo\\nTu\\nWe\\nTh\\nFr\\nSa\\n\\n\\xa0\\xa0\\xa0\\xa0\\xa0\\xa0\\xa0\\n\\xa0\\xa0\\xa0\\xa0\\xa0\\xa0\\xa0\\n\\xa0\\xa0\\xa0\\xa0\\xa0\\xa0\\xa0\\n\\xa0\\xa0\\xa0\\xa0\\xa0\\xa0\\xa0\\n\\xa0\\xa0\\xa0\\xa0\\xa0\\xa0\\xa0\\n\\xa0\\xa0\\xa0\\xa0\\xa0\\xa0\\xa0\\n\\n\\nClose calendar\\n\\n\\n\\n\\n\\n\\n\\n\\n\\n\\n\\n\\n\\n\\n\\n\\n\\n\\n\\n\\n\\n\\n\\n\\n\\n\\n\\n\\n\\n\\n\\n\\n\\n\\n\\n\\n\\n\\n\\n\\n\\n\\n\\n\\n\\n\\n\\n\\n\\n\\n\\n\\n\\n\\n\\n\\n\\n\\n\\nSave big in Jibhi\\n\\n\\nGet exclusive Booker deals by email\\n\\n\\n\\n\\n\\n\\n\\n\\n\\n\\n\\n\\n\\n\\n\\n\\n\\n\\n\\n\\n\\n\\n\\n\\nFor a limited time only\\n\\n\\n\\n\\nError:\\nPlease enter a valid email address.\\n\\n\\n\\nError:\\nOops! An error has occurred.\\n\\n\\n\\nAwesome! You're now subscribed\\n\\n\\nSoon you'll receive news about top-rated hotels, irresistible deals and exciting destinations!\\n\\n\\n\\n\\n\\n\\n\\n\\n\\n\\n\\n\\n\\n\\n\\nSign in to continue \\n\\n\\n\\nSign in to your account\\n\\n\\n\\n\\nor use one of these options\\n\\n\\n\\n\\n\\n\\n\\n\\n\\n\\n\\n\\n\\n\\n\\n\\n\\n\\n\\n\\n\\n\\n\\n\\n\\nDon't have an account yet? Create your account\\n\\n\\n\\n\\n\\n\\n\\n\\n\\n\\n\\n\\n\\n\\n\\n\\n\\n\\n\\n\\n\\n\\n\\n\\n\\n\\n\\n\\n\\n\\n\\n\\n\\n\\n\\n\\n\\n\\n\\n\\n\\n\\n\\n\\n\\n\\n\\n\\n\\n\\n\\n\\n\\n\\n\\n\\n\\n\\n\\n\\n\\n\\n\\n\\n\\n\\n\\n\\n\\n\\n\\n\\n\\n\\n\\n\\n\\n\\n\\n\\n\\n\\n\\n\\n\\n\\n\\n\\n1935360,1899310|1,1943290|2,1943290,1935360|1,1957300,1931000,1953430,1899310\\n\""
      ]
     },
     "execution_count": 50,
     "metadata": {},
     "output_type": "execute_result"
    }
   ],
   "source": [
    "soup = BeautifulSoup(response.text)\n",
    "soup.text"
   ]
  },
  {
   "cell_type": "code",
   "execution_count": 54,
   "id": "a722c517-4109-44e1-a6a3-fed35f16f282",
   "metadata": {},
   "outputs": [],
   "source": [
    "import re\n",
    "def clean_text(text):\n",
    "    # Remove excessive whitespace\n",
    "    text = re.sub(r'\\s+', ' ', text)\n",
    "    \n",
    "    # Remove non-ascii characters\n",
    "    text = text.encode(\"ascii\", errors=\"ignore\").decode()\n",
    "    \n",
    "    # Optional: Remove specific phrases or sections you deem irrelevant\n",
    "    # For example, to remove everything after \"FAQs about\":\n",
    "    text = re.sub(r'FAQs about.*', '', text)\n",
    "    \n",
    "    # Trim to remove leading and trailing whitespaces\n",
    "    text = text.strip()\n",
    "\n",
    "    return text"
   ]
  },
  {
   "cell_type": "code",
   "execution_count": 55,
   "id": "3042ef9e-41fe-4fe3-b691-3887970f7253",
   "metadata": {},
   "outputs": [
    {
     "data": {
      "text/plain": [
       "\"Moksha luxurious,Jibhi, Jibhi  Updated 2024 Prices Skip to main content USDList your propertyRegisterSign inStaysFlightsFlight + HotelCar rentalsCruisesAttractionsAirport taxisMore Home Hotels All vacation homes India Himachal Pradesh Jibhi Moksha luxurious,Jibhi (Vacation Home) (India) Deals OverviewVacation Home Info & PriceAmenitiesHouse rulesOne of our newest propertiesMore SearchDestination/property name:Check-in date+Check-in DateCheck-out date+Check-out Date2 adults  0 children  1 roomI'm traveling for workSearch Show on map Book your vacation home stay We Price Match New to Booking.com Moksha luxurious,Jibhi Moksha luxurious,Jibhi Village Mihar jibhi, 175123 Jibhi, India  Show map After booking, all of the propertys details, including telephone and address, are provided in your booking confirmation and your account. Wonderful location +8 photos Moksha luxurious,Jibhi Reserve now Gallery Close No review score yet...We need at least 1 reviews before we can calculate a review score. If you book and review your stay, you can help Moksha luxurious,Jibhi meet this goal.Write a review Entire homeViewGardenPet friendlyFree WiFiTerraceBalconyFree parkingAir conditioningNon-smoking rooms Offering a garden, Moksha luxurious, Jibhi offers accommodations in Jibhi. This property offers access to a balcony, free private parking, and free Wifi. With direct access to a terrace with garden views, the air-conditioned vacation home consists of 1 bedroom. The nearest airport is KulluManali Airport, 32 miles from the vacation home. Distance in property description is calculated using  OpenStreetMap Show me more Most popular amenitiesFree WiFi Non-smoking rooms Free parking Family rooms Breakfast Property Highlights Free private parking Reserve Save the property Be one of the first to add Availability We Price Match Select dates to see this property's availability and prices Check-in Date  Check-out Date2 adults  0 children  1 roomSearch Accommodation TypeNumber of guests One-Bedroom House1 queen bedShow prices Something went wrong  please try again later. No credit card needed to book. We'll send you an email confirming your reservation. Host InfoMost Beautiful property with Hot Tub jacuzzi, Glass roof is beautiful and the balcony view is awesome from property.Languages spoken: English,HindiArea infoSee availabilityAmenities of Moksha luxurious,JibhiSee availabilityMost popular amenitiesFree WiFi Non-smoking rooms Free parking Family rooms Breakfast ParkingFree private parking is available at a location nearby (reservation is not needed).InternetWiFi is available in all areas and is free of charge.Room AmenitiesHeating Hot tub PetsPets are allowed. No extra charges.OutdoorsBalcony Terrace Garden SpaHot tub/Jacuzzi Outdoor & ViewGarden view View MiscellaneousAir conditioning Family rooms Non-smoking rooms Languages SpokenEnglish Hindi See availability House rules Moksha luxurious,Jibhi takes special requests  add in the next step! Check-in From 2:00 PM to 10:00 PM You need to let the property know what time you'll be arriving in advance. Check-out From 11:00 AM to 12:00 PM Cancellation/ prepayment Cancellation and prepayment policies vary according to accommodations type. Please enter the dates of your stay and check what conditions apply to your preferred room. Children & Beds Child policies Children of all ages are welcome. To see correct prices and occupancy info, add the number and ages of children in your group to your search. Crib and extra bed policies 0 - 3 years Crib by request Rs. 1,000 per child, per night Additional fees are not calculated automatically in the total cost and will have to be paid for separately during your stay. 1 crib available on request. All cribs and extra beds are subject to availability. No age restriction There's no age requirement for check-in Pets Free! Pets are allowed. No extra charges.\""
      ]
     },
     "execution_count": 55,
     "metadata": {},
     "output_type": "execute_result"
    }
   ],
   "source": [
    "clean_text(soup.text)"
   ]
  }
 ],
 "metadata": {
  "kernelspec": {
   "display_name": "Python 3 (ipykernel)",
   "language": "python",
   "name": "python3"
  },
  "language_info": {
   "codemirror_mode": {
    "name": "ipython",
    "version": 3
   },
   "file_extension": ".py",
   "mimetype": "text/x-python",
   "name": "python",
   "nbconvert_exporter": "python",
   "pygments_lexer": "ipython3",
   "version": "3.11.7"
  }
 },
 "nbformat": 4,
 "nbformat_minor": 5
}
